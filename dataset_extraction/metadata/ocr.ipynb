{
 "cells": [
  {
   "cell_type": "code",
   "execution_count": 1,
   "id": "33ad0e7c",
   "metadata": {
    "execution": {
     "iopub.execute_input": "2023-09-07T15:43:03.788978Z",
     "iopub.status.busy": "2023-09-07T15:43:03.788505Z",
     "iopub.status.idle": "2023-09-07T15:43:16.582879Z",
     "shell.execute_reply": "2023-09-07T15:43:16.581719Z"
    },
    "papermill": {
     "duration": 12.804485,
     "end_time": "2023-09-07T15:43:16.586414",
     "exception": false,
     "start_time": "2023-09-07T15:43:03.781929",
     "status": "completed"
    },
    "tags": []
   },
   "outputs": [
    {
     "name": "stdout",
     "output_type": "stream",
     "text": [
      "Collecting easyocr\n",
      "  Downloading easyocr-1.7.1-py3-none-any.whl.metadata (11 kB)\n",
      "Requirement already satisfied: torch in d:\\anaconda\\envs\\py310\\lib\\site-packages (from easyocr) (2.4.1+cu121)\n",
      "Requirement already satisfied: torchvision>=0.5 in d:\\anaconda\\envs\\py310\\lib\\site-packages (from easyocr) (0.19.1+cu121)\n",
      "Requirement already satisfied: opencv-python-headless in d:\\anaconda\\envs\\py310\\lib\\site-packages (from easyocr) (4.10.0.84)\n",
      "Requirement already satisfied: scipy in d:\\anaconda\\envs\\py310\\lib\\site-packages (from easyocr) (1.13.1)\n",
      "Requirement already satisfied: numpy in d:\\anaconda\\envs\\py310\\lib\\site-packages (from easyocr) (1.26.4)\n",
      "Requirement already satisfied: Pillow in d:\\anaconda\\envs\\py310\\lib\\site-packages (from easyocr) (10.4.0)\n",
      "Requirement already satisfied: scikit-image in d:\\anaconda\\envs\\py310\\lib\\site-packages (from easyocr) (0.24.0)\n",
      "Collecting python-bidi (from easyocr)\n",
      "  Downloading python_bidi-0.6.0-cp310-none-win_amd64.whl.metadata (4.7 kB)\n",
      "Requirement already satisfied: PyYAML in d:\\anaconda\\envs\\py310\\lib\\site-packages (from easyocr) (6.0.1)\n",
      "Collecting Shapely (from easyocr)\n",
      "  Downloading shapely-2.0.6-cp310-cp310-win_amd64.whl.metadata (7.2 kB)\n",
      "Collecting pyclipper (from easyocr)\n",
      "  Downloading pyclipper-1.3.0.post5-cp310-cp310-win_amd64.whl.metadata (9.2 kB)\n",
      "Collecting ninja (from easyocr)\n",
      "  Downloading ninja-1.11.1.1-py2.py3-none-win_amd64.whl.metadata (5.4 kB)\n",
      "Requirement already satisfied: filelock in d:\\anaconda\\envs\\py310\\lib\\site-packages (from torch->easyocr) (3.16.0)\n",
      "Requirement already satisfied: typing-extensions>=4.8.0 in d:\\anaconda\\envs\\py310\\lib\\site-packages (from torch->easyocr) (4.12.2)\n",
      "Requirement already satisfied: sympy in d:\\anaconda\\envs\\py310\\lib\\site-packages (from torch->easyocr) (1.13.2)\n",
      "Requirement already satisfied: networkx in d:\\anaconda\\envs\\py310\\lib\\site-packages (from torch->easyocr) (3.2.1)\n",
      "Requirement already satisfied: jinja2 in d:\\anaconda\\envs\\py310\\lib\\site-packages (from torch->easyocr) (3.1.4)\n",
      "Requirement already satisfied: fsspec in d:\\anaconda\\envs\\py310\\lib\\site-packages (from torch->easyocr) (2024.6.1)\n",
      "Requirement already satisfied: imageio>=2.33 in d:\\anaconda\\envs\\py310\\lib\\site-packages (from scikit-image->easyocr) (2.35.1)\n",
      "Requirement already satisfied: tifffile>=2022.8.12 in d:\\anaconda\\envs\\py310\\lib\\site-packages (from scikit-image->easyocr) (2024.8.30)\n",
      "Requirement already satisfied: packaging>=21 in d:\\anaconda\\envs\\py310\\lib\\site-packages (from scikit-image->easyocr) (24.1)\n",
      "Requirement already satisfied: lazy-loader>=0.4 in d:\\anaconda\\envs\\py310\\lib\\site-packages (from scikit-image->easyocr) (0.4)\n",
      "Requirement already satisfied: MarkupSafe>=2.0 in d:\\anaconda\\envs\\py310\\lib\\site-packages (from jinja2->torch->easyocr) (2.1.5)\n",
      "Requirement already satisfied: mpmath<1.4,>=1.1.0 in d:\\anaconda\\envs\\py310\\lib\\site-packages (from sympy->torch->easyocr) (1.3.0)\n",
      "Downloading easyocr-1.7.1-py3-none-any.whl (2.9 MB)\n",
      "   ---------------------------------------- 0.0/2.9 MB ? eta -:--:--\n",
      "   ------- -------------------------------- 0.5/2.9 MB 5.6 MB/s eta 0:00:01\n",
      "   ------------------------------------ --- 2.6/2.9 MB 6.6 MB/s eta 0:00:01\n",
      "   ------------------------------------ --- 2.6/2.9 MB 6.6 MB/s eta 0:00:01\n",
      "   ------------------------------------ --- 2.6/2.9 MB 6.6 MB/s eta 0:00:01\n",
      "   ---------------------------------------- 2.9/2.9 MB 2.9 MB/s eta 0:00:00\n",
      "Downloading ninja-1.11.1.1-py2.py3-none-win_amd64.whl (312 kB)\n",
      "Downloading pyclipper-1.3.0.post5-cp310-cp310-win_amd64.whl (108 kB)\n",
      "Downloading python_bidi-0.6.0-cp310-none-win_amd64.whl (156 kB)\n",
      "Downloading shapely-2.0.6-cp310-cp310-win_amd64.whl (1.4 MB)\n",
      "   ---------------------------------------- 0.0/1.4 MB ? eta -:--:--\n",
      "   ---------------------------------------- 1.4/1.4 MB 12.5 MB/s eta 0:00:00\n",
      "Installing collected packages: python-bidi, pyclipper, ninja, Shapely, easyocr\n",
      "Successfully installed Shapely-2.0.6 easyocr-1.7.1 ninja-1.11.1.1 pyclipper-1.3.0.post5 python-bidi-0.6.0\n"
     ]
    }
   ],
   "source": [
    "!pip install easyocr"
   ]
  },
  {
   "cell_type": "code",
   "execution_count": 1,
   "id": "cdebbe19",
   "metadata": {
    "execution": {
     "iopub.execute_input": "2023-09-07T15:43:16.601946Z",
     "iopub.status.busy": "2023-09-07T15:43:16.601583Z",
     "iopub.status.idle": "2023-09-07T15:43:21.210248Z",
     "shell.execute_reply": "2023-09-07T15:43:21.209306Z"
    },
    "papermill": {
     "duration": 4.619053,
     "end_time": "2023-09-07T15:43:21.212912",
     "exception": false,
     "start_time": "2023-09-07T15:43:16.593859",
     "status": "completed"
    },
    "tags": []
   },
   "outputs": [],
   "source": [
    "import os\n",
    "import cv2\n",
    "import glob\n",
    "import json\n",
    "import torch\n",
    "import easyocr\n",
    "import numpy as np\n",
    "import matplotlib.pyplot as plt\n",
    "from tqdm import tqdm"
   ]
  },
  {
   "cell_type": "markdown",
   "id": "8f7302b7",
   "metadata": {
    "papermill": {
     "duration": 0.004496,
     "end_time": "2023-09-07T15:43:21.222704",
     "exception": false,
     "start_time": "2023-09-07T15:43:21.218208",
     "status": "completed"
    },
    "tags": []
   },
   "source": [
    "# Parse data path"
   ]
  },
  {
   "cell_type": "code",
   "execution_count": 2,
   "id": "401780c4",
   "metadata": {
    "execution": {
     "iopub.execute_input": "2023-09-07T15:43:21.235049Z",
     "iopub.status.busy": "2023-09-07T15:43:21.233352Z",
     "iopub.status.idle": "2023-09-07T15:43:21.249084Z",
     "shell.execute_reply": "2023-09-07T15:43:21.248276Z"
    },
    "papermill": {
     "duration": 0.023777,
     "end_time": "2023-09-07T15:43:21.251153",
     "exception": false,
     "start_time": "2023-09-07T15:43:21.227376",
     "status": "completed"
    },
    "tags": []
   },
   "outputs": [
    {
     "name": "stdout",
     "output_type": "stream",
     "text": [
      "Data Part: L01, Number of videos: 31\n",
      "Data Part: L01_extra, Number of videos: 31\n",
      "Data Part: L02, Number of videos: 31\n",
      "Data Part: L02_extra, Number of videos: 31\n",
      "Data Part: L03, Number of videos: 30\n",
      "Data Part: L03_extra, Number of videos: 30\n",
      "Data Part: L04, Number of videos: 30\n",
      "Data Part: L04_extra, Number of videos: 30\n",
      "Data Part: L05, Number of videos: 31\n",
      "Data Part: L05_extra, Number of videos: 31\n",
      "Data Part: L06, Number of videos: 31\n",
      "Data Part: L06_extra, Number of videos: 31\n",
      "Data Part: L07, Number of videos: 31\n",
      "Data Part: L07_extra, Number of videos: 31\n",
      "Data Part: L08, Number of videos: 30\n",
      "Data Part: L08_extra, Number of videos: 30\n",
      "Data Part: L09, Number of videos: 29\n",
      "Data Part: L09_extra, Number of videos: 29\n",
      "Data Part: L10, Number of videos: 29\n",
      "Data Part: L10_extra, Number of videos: 29\n",
      "Data Part: L11, Number of videos: 30\n",
      "Data Part: L11_extra, Number of videos: 30\n",
      "Data Part: L12, Number of videos: 30\n",
      "Data Part: L12_extra, Number of videos: 30\n",
      "Data Part: L13, Number of videos: 30\n",
      "Data Part: L13_extra, Number of videos: 30\n",
      "Data Part: L14, Number of videos: 27\n",
      "Data Part: L14_extra, Number of videos: 27\n",
      "Data Part: L15, Number of videos: 32\n",
      "Data Part: L15_extra, Number of videos: 31\n",
      "Data Part: L16, Number of videos: 31\n",
      "Data Part: L16_extra, Number of videos: 31\n",
      "Data Part: L17, Number of videos: 28\n",
      "Data Part: L17_extra, Number of videos: 28\n",
      "Data Part: L18, Number of videos: 29\n",
      "Data Part: L18_extra, Number of videos: 29\n",
      "Data Part: L19, Number of videos: 30\n",
      "Data Part: L19_extra, Number of videos: 30\n",
      "Data Part: L20, Number of videos: 29\n",
      "Data Part: L20_extra, Number of videos: 29\n",
      "Data Part: L21, Number of videos: 29\n",
      "Data Part: L21_extra, Number of videos: 29\n",
      "Data Part: L22, Number of videos: 31\n",
      "Data Part: L22_extra, Number of videos: 31\n",
      "Data Part: L23, Number of videos: 25\n",
      "Data Part: L23_extra, Number of videos: 25\n",
      "Data Part: L24, Number of videos: 43\n",
      "Data Part: L24_extra, Number of videos: 43\n"
     ]
    }
   ],
   "source": [
    "keyframes_dir = 'D:/AIChallenge/data_sotuyen1/keyframe'\n",
    "all_keyframe_paths = dict()\n",
    "\n",
    "# Duyệt qua tất cả các thư mục trong keyframes_dir\n",
    "for part in sorted(os.listdir(keyframes_dir)):\n",
    "    # Lấy tên phần chính (ví dụ: L01, L01_extra)\n",
    "    data_part = part.split('_')[0] # Lấy phần L01 hoặc L01 từ L01_extra\n",
    "    is_extra = '_extra' in part # Kiểm tra xem có phải là thư mục _extra hay không\n",
    "    \n",
    "    # Nếu là _extra, thì thêm vào key '_extra'\n",
    "    data_key = f\"{data_part}_extra\" if is_extra else data_part\n",
    "    \n",
    "    # Khởi tạo từ điển con nếu chưa có\n",
    "    if data_key not in all_keyframe_paths:\n",
    "        all_keyframe_paths[data_key] = dict()\n",
    "\n",
    "# Duyệt qua tất cả các phần dữ liệu\n",
    "for data_key in sorted(all_keyframe_paths.keys()):\n",
    "    # Xác định đường dẫn cho data_key, bao gồm cả phần _extra\n",
    "    data_part_path = f\"{keyframes_dir}/{data_key.replace('_extra', '')}{'_extra' if '_extra' in data_key else ''}\"\n",
    "    video_dirs = sorted(os.listdir(data_part_path))\n",
    "    \n",
    "    # Lấy video_id từ tên thư mục (ví dụ: từ L01_V031 lấy được V031)\n",
    "    video_ids = [video_dir.split('_')[-1] for video_dir in video_dirs]\n",
    "    \n",
    "    # Lưu keyframe paths cho từng video_id trong data_key\n",
    "    for video_id, video_dir in zip(video_ids, video_dirs):\n",
    "        keyframe_paths = sorted(glob.glob(f'{data_part_path}/{video_dir}/*.jpg'))\n",
    "        all_keyframe_paths[data_key][video_id] = keyframe_paths\n",
    "\n",
    "# In thử kết quả để kiểm tra\n",
    "for key, videos in all_keyframe_paths.items():\n",
    "    print(f\"Data Part: {key}, Number of videos: {len(videos)}\")"
   ]
  },
  {
   "cell_type": "markdown",
   "id": "8118bbc3",
   "metadata": {
    "papermill": {
     "duration": 0.004463,
     "end_time": "2023-09-07T15:43:48.930547",
     "exception": false,
     "start_time": "2023-09-07T15:43:48.926084",
     "status": "completed"
    },
    "tags": []
   },
   "source": [
    "# Run inference"
   ]
  },
  {
   "cell_type": "code",
   "execution_count": 3,
   "id": "b6ed942c",
   "metadata": {
    "execution": {
     "iopub.execute_input": "2023-09-07T15:43:48.941673Z",
     "iopub.status.busy": "2023-09-07T15:43:48.940805Z",
     "iopub.status.idle": "2023-09-07T15:43:57.117079Z",
     "shell.execute_reply": "2023-09-07T15:43:57.116033Z"
    },
    "papermill": {
     "duration": 8.184771,
     "end_time": "2023-09-07T15:43:57.119909",
     "exception": false,
     "start_time": "2023-09-07T15:43:48.935138",
     "status": "completed"
    },
    "tags": []
   },
   "outputs": [
    {
     "name": "stderr",
     "output_type": "stream",
     "text": [
      "d:\\anaconda\\envs\\py310\\lib\\site-packages\\easyocr\\detection.py:85: FutureWarning: You are using `torch.load` with `weights_only=False` (the current default value), which uses the default pickle module implicitly. It is possible to construct malicious pickle data which will execute arbitrary code during unpickling (See https://github.com/pytorch/pytorch/blob/main/SECURITY.md#untrusted-models for more details). In a future release, the default value for `weights_only` will be flipped to `True`. This limits the functions that could be executed during unpickling. Arbitrary objects will no longer be allowed to be loaded via this mode unless they are explicitly allowlisted by the user via `torch.serialization.add_safe_globals`. We recommend you start setting `weights_only=True` for any use case where you don't have full control of the loaded file. Please open an issue on GitHub for any issues related to this experimental feature.\n",
      "  net.load_state_dict(copyStateDict(torch.load(trained_model, map_location=device)))\n",
      "d:\\anaconda\\envs\\py310\\lib\\site-packages\\easyocr\\recognition.py:182: FutureWarning: You are using `torch.load` with `weights_only=False` (the current default value), which uses the default pickle module implicitly. It is possible to construct malicious pickle data which will execute arbitrary code during unpickling (See https://github.com/pytorch/pytorch/blob/main/SECURITY.md#untrusted-models for more details). In a future release, the default value for `weights_only` will be flipped to `True`. This limits the functions that could be executed during unpickling. Arbitrary objects will no longer be allowed to be loaded via this mode unless they are explicitly allowlisted by the user via `torch.serialization.add_safe_globals`. We recommend you start setting `weights_only=True` for any use case where you don't have full control of the loaded file. Please open an issue on GitHub for any issues related to this experimental feature.\n",
      "  model.load_state_dict(torch.load(model_path, map_location=device))\n"
     ]
    }
   ],
   "source": [
    "reader = easyocr.Reader(['vi'], gpu=True) # this needs to run only once to load the model into memory"
   ]
  },
  {
   "cell_type": "code",
   "execution_count": 8,
   "id": "eec456b2",
   "metadata": {
    "execution": {
     "iopub.execute_input": "2023-09-07T15:43:57.131090Z",
     "iopub.status.busy": "2023-09-07T15:43:57.130767Z",
     "iopub.status.idle": "2023-09-07T21:55:59.987227Z",
     "shell.execute_reply": "2023-09-07T21:55:59.986315Z"
    },
    "papermill": {
     "duration": 22322.970225,
     "end_time": "2023-09-07T21:56:00.095196",
     "exception": false,
     "start_time": "2023-09-07T15:43:57.124971",
     "status": "completed"
    },
    "tags": []
   },
   "outputs": [
    {
     "name": "stderr",
     "output_type": "stream",
     "text": [
      "  0%|          | 0/48 [00:00<?, ?it/s]"
     ]
    }
   ],
   "source": [
    "bs = 16\n",
    "save_dir = './ocr'\n",
    "if not os.path.exists(save_dir):\n",
    "    os.mkdir(save_dir)\n",
    "\n",
    "keys = sorted(all_keyframe_paths.keys())\n",
    "for key in tqdm(keys):\n",
    "    video_keyframe_paths = all_keyframe_paths[key]\n",
    "    video_ids = sorted(video_keyframe_paths.keys())\n",
    "\n",
    "    if not os.path.exists(os.path.join(save_dir, key)):\n",
    "        os.mkdir(os.path.join(save_dir, key))\n",
    "\n",
    "    for video_id in tqdm(video_ids):\n",
    "        video_keyframe_path = video_keyframe_paths[video_id]\n",
    "        video_ocr_results = []\n",
    "        for i in range(0, len(video_keyframe_path), bs):\n",
    "            # Support batchsize inferencing\n",
    "            image_paths = video_keyframe_path[i:i+bs]\n",
    "            results = reader.readtext_batched(image_paths, batch_size=len(image_paths))\n",
    "            for result in results:\n",
    "                refined_result = []\n",
    "                for item in result: \n",
    "                    if item[2] > 0.5:\n",
    "                        refined_result.append(item)   \n",
    "                refined_result = easyocr.utils.get_paragraph(refined_result)\n",
    "                text_detected = [item[1] for item in refined_result]\n",
    "                video_ocr_results.append(text_detected)\n",
    "\n",
    "        with open(f'{save_dir}/{key}/{video_id}.json',\"w\", encoding='utf-8') as jsonfile:\n",
    "            json.dump(video_ocr_results, jsonfile, ensure_ascii=False)"
   ]
  },
  {
   "cell_type": "code",
   "execution_count": null,
   "id": "b91a6204",
   "metadata": {},
   "outputs": [],
   "source": []
  }
 ],
 "metadata": {
  "kernelspec": {
   "display_name": "Python 3",
   "language": "python",
   "name": "python3"
  },
  "language_info": {
   "codemirror_mode": {
    "name": "ipython",
    "version": 3
   },
   "file_extension": ".py",
   "mimetype": "text/x-python",
   "name": "python",
   "nbconvert_exporter": "python",
   "pygments_lexer": "ipython3",
   "version": "3.10.14"
  },
  "papermill": {
   "default_parameters": {},
   "duration": 22389.935883,
   "end_time": "2023-09-07T21:56:03.557286",
   "environment_variables": {},
   "exception": null,
   "input_path": "__notebook__.ipynb",
   "output_path": "__notebook__.ipynb",
   "parameters": {},
   "start_time": "2023-09-07T15:42:53.621403",
   "version": "2.4.0"
  }
 },
 "nbformat": 4,
 "nbformat_minor": 5
}
