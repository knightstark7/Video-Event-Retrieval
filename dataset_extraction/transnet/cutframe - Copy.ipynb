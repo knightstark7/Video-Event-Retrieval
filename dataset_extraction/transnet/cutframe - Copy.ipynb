{
 "cells": [
  {
   "cell_type": "code",
   "execution_count": 1,
   "id": "616be9fb",
   "metadata": {
    "execution": {
     "iopub.execute_input": "2023-08-12T10:09:12.695126Z",
     "iopub.status.busy": "2023-08-12T10:09:12.693680Z",
     "iopub.status.idle": "2023-08-12T10:09:12.980518Z",
     "shell.execute_reply": "2023-08-12T10:09:12.979255Z"
    },
    "papermill": {
     "duration": 0.295235,
     "end_time": "2023-08-12T10:09:12.983719",
     "exception": false,
     "start_time": "2023-08-12T10:09:12.688484",
     "status": "completed"
    },
    "tags": []
   },
   "outputs": [],
   "source": [
    "import os\n",
    "import cv2\n",
    "import json\n",
    "import glob\n",
    "import numpy as np\n",
    "from tqdm import tqdm"
   ]
  },
  {
   "cell_type": "markdown",
   "id": "dcc7f288",
   "metadata": {
    "papermill": {
     "duration": 0.002522,
     "end_time": "2023-08-12T10:09:12.989314",
     "exception": false,
     "start_time": "2023-08-12T10:09:12.986792",
     "status": "completed"
    },
    "tags": []
   },
   "source": [
    "# Parse video info"
   ]
  },
  {
   "cell_type": "code",
   "execution_count": 2,
   "id": "aad71890",
   "metadata": {
    "execution": {
     "iopub.execute_input": "2023-08-12T10:09:12.996631Z",
     "iopub.status.busy": "2023-08-12T10:09:12.996234Z",
     "iopub.status.idle": "2023-08-12T10:09:13.006373Z",
     "shell.execute_reply": "2023-08-12T10:09:13.005225Z"
    },
    "papermill": {
     "duration": 0.017065,
     "end_time": "2023-08-12T10:09:13.009127",
     "exception": false,
     "start_time": "2023-08-12T10:09:12.992062",
     "status": "completed"
    },
    "tags": []
   },
   "outputs": [
    {
     "name": "stdout",
     "output_type": "stream",
     "text": [
      "{'L14': {'V001': 'D:/AIChallenge/data_sotuyen1/video/Videos_L14/video/L14_V001.mp4', 'V002': 'D:/AIChallenge/data_sotuyen1/video/Videos_L14/video/L14_V002.mp4', 'V003': 'D:/AIChallenge/data_sotuyen1/video/Videos_L14/video/L14_V003.mp4', 'V004': 'D:/AIChallenge/data_sotuyen1/video/Videos_L14/video/L14_V004.mp4', 'V005': 'D:/AIChallenge/data_sotuyen1/video/Videos_L14/video/L14_V005.mp4', 'V006': 'D:/AIChallenge/data_sotuyen1/video/Videos_L14/video/L14_V006.mp4', 'V007': 'D:/AIChallenge/data_sotuyen1/video/Videos_L14/video/L14_V007.mp4', 'V008': 'D:/AIChallenge/data_sotuyen1/video/Videos_L14/video/L14_V008.mp4', 'V009': 'D:/AIChallenge/data_sotuyen1/video/Videos_L14/video/L14_V009.mp4', 'V011': 'D:/AIChallenge/data_sotuyen1/video/Videos_L14/video/L14_V011.mp4', 'V012': 'D:/AIChallenge/data_sotuyen1/video/Videos_L14/video/L14_V012.mp4', 'V013': 'D:/AIChallenge/data_sotuyen1/video/Videos_L14/video/L14_V013.mp4', 'V014': 'D:/AIChallenge/data_sotuyen1/video/Videos_L14/video/L14_V014.mp4', 'V015': 'D:/AIChallenge/data_sotuyen1/video/Videos_L14/video/L14_V015.mp4', 'V016': 'D:/AIChallenge/data_sotuyen1/video/Videos_L14/video/L14_V016.mp4', 'V017': 'D:/AIChallenge/data_sotuyen1/video/Videos_L14/video/L14_V017.mp4', 'V018': 'D:/AIChallenge/data_sotuyen1/video/Videos_L14/video/L14_V018.mp4', 'V019': 'D:/AIChallenge/data_sotuyen1/video/Videos_L14/video/L14_V019.mp4', 'V020': 'D:/AIChallenge/data_sotuyen1/video/Videos_L14/video/L14_V020.mp4', 'V021': 'D:/AIChallenge/data_sotuyen1/video/Videos_L14/video/L14_V021.mp4', 'V022': 'D:/AIChallenge/data_sotuyen1/video/Videos_L14/video/L14_V022.mp4', 'V023': 'D:/AIChallenge/data_sotuyen1/video/Videos_L14/video/L14_V023.mp4', 'V024': 'D:/AIChallenge/data_sotuyen1/video/Videos_L14/video/L14_V024.mp4', 'V025': 'D:/AIChallenge/data_sotuyen1/video/Videos_L14/video/L14_V025.mp4', 'V026': 'D:/AIChallenge/data_sotuyen1/video/Videos_L14/video/L14_V026.mp4', 'V027': 'D:/AIChallenge/data_sotuyen1/video/Videos_L14/video/L14_V027.mp4', 'V028': 'D:/AIChallenge/data_sotuyen1/video/Videos_L14/video/L14_V028.mp4'}, 'L19': {'V001': 'D:/AIChallenge/data_sotuyen1/video/Videos_L19/video/L19_V001.mp4', 'V003': 'D:/AIChallenge/data_sotuyen1/video/Videos_L19/video/L19_V003.mp4', 'V004': 'D:/AIChallenge/data_sotuyen1/video/Videos_L19/video/L19_V004.mp4', 'V005': 'D:/AIChallenge/data_sotuyen1/video/Videos_L19/video/L19_V005.mp4', 'V006': 'D:/AIChallenge/data_sotuyen1/video/Videos_L19/video/L19_V006.mp4', 'V007': 'D:/AIChallenge/data_sotuyen1/video/Videos_L19/video/L19_V007.mp4', 'V008': 'D:/AIChallenge/data_sotuyen1/video/Videos_L19/video/L19_V008.mp4', 'V009': 'D:/AIChallenge/data_sotuyen1/video/Videos_L19/video/L19_V009.mp4', 'V010': 'D:/AIChallenge/data_sotuyen1/video/Videos_L19/video/L19_V010.mp4', 'V011': 'D:/AIChallenge/data_sotuyen1/video/Videos_L19/video/L19_V011.mp4', 'V012': 'D:/AIChallenge/data_sotuyen1/video/Videos_L19/video/L19_V012.mp4', 'V013': 'D:/AIChallenge/data_sotuyen1/video/Videos_L19/video/L19_V013.mp4', 'V014': 'D:/AIChallenge/data_sotuyen1/video/Videos_L19/video/L19_V014.mp4', 'V015': 'D:/AIChallenge/data_sotuyen1/video/Videos_L19/video/L19_V015.mp4', 'V016': 'D:/AIChallenge/data_sotuyen1/video/Videos_L19/video/L19_V016.mp4', 'V017': 'D:/AIChallenge/data_sotuyen1/video/Videos_L19/video/L19_V017.mp4', 'V018': 'D:/AIChallenge/data_sotuyen1/video/Videos_L19/video/L19_V018.mp4', 'V019': 'D:/AIChallenge/data_sotuyen1/video/Videos_L19/video/L19_V019.mp4', 'V020': 'D:/AIChallenge/data_sotuyen1/video/Videos_L19/video/L19_V020.mp4', 'V021': 'D:/AIChallenge/data_sotuyen1/video/Videos_L19/video/L19_V021.mp4', 'V022': 'D:/AIChallenge/data_sotuyen1/video/Videos_L19/video/L19_V022.mp4', 'V023': 'D:/AIChallenge/data_sotuyen1/video/Videos_L19/video/L19_V023.mp4', 'V024': 'D:/AIChallenge/data_sotuyen1/video/Videos_L19/video/L19_V024.mp4', 'V025': 'D:/AIChallenge/data_sotuyen1/video/Videos_L19/video/L19_V025.mp4', 'V026': 'D:/AIChallenge/data_sotuyen1/video/Videos_L19/video/L19_V026.mp4', 'V027': 'D:/AIChallenge/data_sotuyen1/video/Videos_L19/video/L19_V027.mp4', 'V028': 'D:/AIChallenge/data_sotuyen1/video/Videos_L19/video/L19_V028.mp4', 'V029': 'D:/AIChallenge/data_sotuyen1/video/Videos_L19/video/L19_V029.mp4', 'V030': 'D:/AIChallenge/data_sotuyen1/video/Videos_L19/video/L19_V030.mp4', 'V031': 'D:/AIChallenge/data_sotuyen1/video/Videos_L19/video/L19_V031.mp4'}}\n"
     ]
    }
   ],
   "source": [
    "videos_dir = 'D:/AIChallenge/data_sotuyen1/video'\n",
    "videos_dir2 = 'D:/AIChallenge/data_sotuyen2/video'\n",
    "\n",
    "all_video_paths = dict()\n",
    "\n",
    "# Hàm để gom video paths từ một thư mục\n",
    "def collect_video_paths_from_dir(base_dir, all_video_paths):\n",
    "    for part in sorted(os.listdir(base_dir)):\n",
    "        data_part = part.split('_')[-1]  # L01, L02 for ex\n",
    "        \n",
    "        # Nếu thư mục này chưa có trong all_video_paths, khởi tạo dict cho nó\n",
    "        if data_part not in all_video_paths:\n",
    "            all_video_paths[data_part] = dict()\n",
    "        \n",
    "        data_part_path = f'{base_dir}/Videos_{data_part}/video'\n",
    "        \n",
    "        if os.path.exists(data_part_path):\n",
    "            video_paths = sorted(os.listdir(data_part_path))\n",
    "            video_ids = [video_path.replace('.mp4', '').split('_')[-1] for video_path in video_paths]\n",
    "            for video_id, video_path in zip(video_ids, video_paths):\n",
    "                video_path_full = f'{data_part_path}/{video_path}'\n",
    "                all_video_paths[data_part][video_id] = video_path_full\n",
    "\n",
    "# Gom video paths từ cả hai thư mục\n",
    "collect_video_paths_from_dir(videos_dir, all_video_paths)\n",
    "# collect_video_paths_from_dir(videos_dir2, all_video_paths)\n",
    "\n",
    "# Kiểm tra kết quả\n",
    "print(all_video_paths)\n"
   ]
  },
  {
   "cell_type": "markdown",
   "id": "c433d1a2",
   "metadata": {},
   "source": [
    "# Sampling Utils"
   ]
  },
  {
   "cell_type": "code",
   "execution_count": 3,
   "id": "fe9e8fd9",
   "metadata": {},
   "outputs": [],
   "source": [
    "def sample_frames_from_shot(start_idx, end_idx):\n",
    "    '''\n",
    "    intervals = np.linspace(start=start_idx, stop=end_idx, num=n_frames+1).astype(int)\n",
    "    ranges = []\n",
    "    for idx, interv in enumerate(intervals[:-1]):\n",
    "        ranges.append((interv, intervals[idx + 1]))\n",
    "    frame_idxs = [(x[0] + x[1]) // 2 for x in ranges]\n",
    "    '''\n",
    "    idx_first = start_idx\n",
    "    idx_end = end_idx\n",
    "    idx_03 = start_idx + int((end_idx-start_idx)/3)\n",
    "    idx_06 = start_idx + int(2*(end_idx-start_idx)/3)\n",
    "    frame_idxs = [idx_first, idx_03, idx_06, idx_end]\n",
    "    return frame_idxs"
   ]
  },
  {
   "cell_type": "markdown",
   "id": "c545e2f9",
   "metadata": {
    "papermill": {
     "duration": 0.005261,
     "end_time": "2023-08-12T10:09:13.073707",
     "exception": false,
     "start_time": "2023-08-12T10:09:13.068446",
     "status": "completed"
    },
    "tags": []
   },
   "source": [
    "# CutFrame"
   ]
  },
  {
   "cell_type": "code",
   "execution_count": 4,
   "id": "e4ca87de",
   "metadata": {
    "execution": {
     "iopub.execute_input": "2023-08-12T10:09:13.102732Z",
     "iopub.status.busy": "2023-08-12T10:09:13.101676Z",
     "iopub.status.idle": "2023-08-12T10:09:13.108103Z",
     "shell.execute_reply": "2023-08-12T10:09:13.107053Z"
    },
    "papermill": {
     "duration": 0.012857,
     "end_time": "2023-08-12T10:09:13.110280",
     "exception": false,
     "start_time": "2023-08-12T10:09:13.097423",
     "status": "completed"
    },
    "tags": []
   },
   "outputs": [
    {
     "name": "stderr",
     "output_type": "stream",
     "text": [
      "Processing L14:   0%|          | 0/27 [00:00<?, ?it/s]"
     ]
    },
    {
     "name": "stderr",
     "output_type": "stream",
     "text": [
      "Processing scenes for V006: 100%|██████████| 408/408 [03:07<00:00,  2.18it/s]\n",
      "Processing scenes for V007: 100%|██████████| 353/353 [02:22<00:00,  2.48it/s]\n",
      "Processing scenes for V008: 100%|██████████| 368/368 [02:11<00:00,  2.79it/s]\n",
      "Processing scenes for V009: 100%|██████████| 385/385 [02:59<00:00,  2.15it/s]\n",
      "Processing scenes for V011: 100%|██████████| 372/372 [06:04<00:00,  1.02it/s]\n",
      "Processing scenes for V012: 100%|██████████| 388/388 [02:17<00:00,  2.82it/s]\n",
      "Processing scenes for V013: 100%|██████████| 305/305 [01:49<00:00,  2.78it/s]\n",
      "Processing scenes for V014: 100%|██████████| 373/373 [01:56<00:00,  3.21it/s]\n",
      "Processing scenes for V015: 100%|██████████| 311/311 [01:51<00:00,  2.80it/s]\n",
      "Processing scenes for V016: 100%|██████████| 307/307 [01:40<00:00,  3.05it/s]\n",
      "Processing scenes for V017: 100%|██████████| 333/333 [01:47<00:00,  3.09it/s]\n",
      "Processing scenes for V018: 100%|██████████| 278/278 [01:47<00:00,  2.60it/s]\n",
      "Processing scenes for V019: 100%|██████████| 391/391 [02:17<00:00,  2.85it/s]\n",
      "Processing scenes for V020: 100%|██████████| 336/336 [01:58<00:00,  2.85it/s]\n",
      "Processing scenes for V021: 100%|██████████| 331/331 [02:09<00:00,  2.55it/s]\n",
      "Processing scenes for V022: 100%|██████████| 315/315 [02:03<00:00,  2.55it/s]\n",
      "Processing scenes for V023: 100%|██████████| 338/338 [02:17<00:00,  2.45it/s]\n",
      "Processing scenes for V024: 100%|██████████| 303/303 [02:00<00:00,  2.51it/s]\n",
      "Processing scenes for V025: 100%|██████████| 347/347 [03:33<00:00,  1.63it/s]\n",
      "Processing scenes for V026: 100%|██████████| 327/327 [04:17<00:00,  1.27it/s]\n",
      "Processing scenes for V027: 100%|██████████| 382/382 [04:31<00:00,  1.41it/s]\n",
      "Processing scenes for V028: 100%|██████████| 295/295 [03:20<00:00,  1.47it/s]\n",
      "Processing L14: 100%|██████████| 27/27 [58:26<00:00, 129.86s/it]\n"
     ]
    }
   ],
   "source": [
    "import os\n",
    "import json\n",
    "import cv2\n",
    "from tqdm import tqdm\n",
    "\n",
    "scene_json_dirs = 'D:/AIChallenge/data_sotuyen1/dataset_extraction/transnet/SceneJSON'\n",
    "save_dir_all = 'D:/AIChallenge/data_sotuyen1/keyframe'\n",
    "\n",
    "# Tạo thư mục lưu keyframe nếu chưa tồn tại\n",
    "os.makedirs(save_dir_all, exist_ok=True)\n",
    "\n",
    "# Xử lý chỉ các key từ 'L06' trở đi\n",
    "for key in sorted(all_video_paths.keys()):\n",
    "    if key != 'L14':  # Bỏ qua các key nhỏ hơn 'L06'\n",
    "        continue\n",
    "    \n",
    "    save_dir = f'{save_dir_all}/{key}_extra'\n",
    "    os.makedirs(save_dir, exist_ok=True)  # Tạo thư mục lưu nếu chưa tồn tại\n",
    "    \n",
    "    video_paths_dict = all_video_paths[key]\n",
    "    video_ids = sorted(video_paths_dict.keys())\n",
    "    \n",
    "    for video_id in tqdm(video_ids, desc=f\"Processing {key}\"):\n",
    "        if video_id < 'V006':\n",
    "            continue  # Bỏ qua các video_id nhỏ hơn 'V020'\n",
    "        video_path = video_paths_dict[video_id]\n",
    "        video_scene_path = f'{scene_json_dirs}/{key}/{video_id}.json'\n",
    "        \n",
    "        # Kiểm tra sự tồn tại của file JSON trước khi mở\n",
    "        if not os.path.exists(video_scene_path):\n",
    "            print(f'Scene JSON file not found: {video_scene_path}')\n",
    "            continue\n",
    "        \n",
    "        # Đọc thông tin cảnh (scene) từ file JSON\n",
    "        with open(video_scene_path, 'r') as f:\n",
    "            video_scenes = json.load(f)\n",
    "        \n",
    "        video_save_dir = f'{save_dir}/{video_id}'\n",
    "        os.makedirs(video_save_dir, exist_ok=True)  # Tạo thư mục lưu frame nếu chưa có\n",
    "        \n",
    "        # Mở video bằng OpenCV\n",
    "        cap = cv2.VideoCapture(video_path)\n",
    "        \n",
    "        # Kiểm tra xem video có mở thành công không\n",
    "        if not cap.isOpened():\n",
    "            print(f'Failed to open video: {video_path}')\n",
    "            continue\n",
    "        \n",
    "        # Duyệt qua từng cảnh trong video\n",
    "        for i, shot in enumerate(tqdm(video_scenes, desc=f\"Processing scenes for {video_id}\")):\n",
    "            shot_frames_id = sample_frames_from_shot(shot[0], shot[1])\n",
    "            \n",
    "            # Duyệt qua các frame trong cảnh và lưu lại\n",
    "            for index in shot_frames_id:\n",
    "                cap.set(cv2.CAP_PROP_POS_FRAMES, index)\n",
    "                filename = \"{}/{:0>6d}.jpg\".format(video_save_dir, index)\n",
    "                \n",
    "                ret, frame = cap.read()\n",
    "                if ret:\n",
    "                    if not cv2.imwrite(filename, frame):\n",
    "                        print(f'Failed to save frame {index} for {video_id}')\n",
    "                else:\n",
    "                    print(f'Failed to capture frame {index} for {video_id}')\n",
    "        \n",
    "        cap.release()  # Giải phóng tài nguyên sau khi xử lý video\n"
   ]
  },
  {
   "cell_type": "code",
   "execution_count": null,
   "id": "d94c31dc",
   "metadata": {},
   "outputs": [],
   "source": []
  }
 ],
 "metadata": {
  "kernelspec": {
   "display_name": "Python 3",
   "language": "python",
   "name": "python3"
  },
  "language_info": {
   "codemirror_mode": {
    "name": "ipython",
    "version": 3
   },
   "file_extension": ".py",
   "mimetype": "text/x-python",
   "name": "python",
   "nbconvert_exporter": "python",
   "pygments_lexer": "ipython3",
   "version": "3.10.14"
  },
  "papermill": {
   "default_parameters": {},
   "duration": 8710.504205,
   "end_time": "2023-08-12T12:34:13.074593",
   "environment_variables": {},
   "exception": null,
   "input_path": "__notebook__.ipynb",
   "output_path": "__notebook__.ipynb",
   "parameters": {},
   "start_time": "2023-08-12T10:09:02.570388",
   "version": "2.4.0"
  }
 },
 "nbformat": 4,
 "nbformat_minor": 5
}
