{
 "cells": [
  {
   "cell_type": "code",
   "execution_count": 1,
   "id": "43db011a",
   "metadata": {
    "execution": {
     "iopub.execute_input": "2023-10-02T05:34:25.870630Z",
     "iopub.status.busy": "2023-10-02T05:34:25.869719Z",
     "iopub.status.idle": "2023-10-02T05:34:37.547401Z",
     "shell.execute_reply": "2023-10-02T05:34:37.546030Z"
    },
    "papermill": {
     "duration": 11.683675,
     "end_time": "2023-10-02T05:34:37.549342",
     "exception": false,
     "start_time": "2023-10-02T05:34:25.865667",
     "status": "completed"
    },
    "tags": []
   },
   "outputs": [
    {
     "name": "stdout",
     "output_type": "stream",
     "text": [
      "Requirement already satisfied: ffmpeg-python in d:\\anaconda\\envs\\py310\\lib\\site-packages (0.2.0)\n",
      "Requirement already satisfied: pillow in d:\\anaconda\\envs\\py310\\lib\\site-packages (10.4.0)\n",
      "Requirement already satisfied: future in d:\\anaconda\\envs\\py310\\lib\\site-packages (from ffmpeg-python) (1.0.0)\n",
      "d:\\AIChallenge\\data_sotuyen1\\dataset_extraction\\transnet\\TransNetV2\\inference\n"
     ]
    },
    {
     "name": "stderr",
     "output_type": "stream",
     "text": [
      "Cloning into 'TransNetV2'...\n",
      "Updating files:  48% (15/31)\n",
      "Updating files:  51% (16/31)\n",
      "Updating files:  54% (17/31)\n",
      "Updating files:  58% (18/31)\n",
      "Updating files:  61% (19/31)\n",
      "Updating files:  64% (20/31)\n",
      "Updating files:  67% (21/31)\n",
      "Updating files:  70% (22/31)\n",
      "Updating files:  74% (23/31)\n",
      "Updating files:  77% (24/31)\n",
      "Updating files:  80% (25/31)\n",
      "Updating files:  83% (26/31)\n",
      "Updating files:  87% (27/31)\n",
      "Updating files:  90% (28/31)\n",
      "Updating files:  93% (29/31)\n",
      "Updating files:  96% (30/31)\n",
      "Updating files: 100% (31/31)\n",
      "Updating files: 100% (31/31), done.\n",
      "Filtering content:  66% (2/3)\n",
      "Filtering content: 100% (3/3), 5.66 MiB | 1.44 MiB/s\n",
      "Filtering content: 100% (3/3), 34.77 MiB | 3.15 MiB/s, done.\n"
     ]
    }
   ],
   "source": [
    "!pip install ffmpeg-python pillow\n",
    "!git clone https://github.com/soCzech/TransNetV2.git"
   ]
  },
  {
   "cell_type": "code",
   "execution_count": 1,
   "id": "af4ede34-0aba-4d79-85d6-fe6444da5385",
   "metadata": {},
   "outputs": [
    {
     "name": "stdout",
     "output_type": "stream",
     "text": [
      "D:\\AIChallenge\\data_sotuyen1\\dataset_extraction\\transnet\\TransNetV2\\inference\n"
     ]
    }
   ],
   "source": [
    "%cd TransNetV2/inference"
   ]
  },
  {
   "cell_type": "code",
   "execution_count": 3,
   "id": "6f0e360e",
   "metadata": {
    "papermill": {
     "duration": 11.666998,
     "end_time": "2023-10-02T05:34:49.219467",
     "exception": false,
     "start_time": "2023-10-02T05:34:37.552469",
     "status": "completed"
    },
    "tags": []
   },
   "outputs": [],
   "source": [
    "# Import module\n",
    "import os\n",
    "import cv2\n",
    "import json\n",
    "import glob\n",
    "import ffmpeg\n",
    "import torch\n",
    "import numpy as np\n",
    "from tqdm import tqdm\n",
    "from transnetv2 import TransNetV2"
   ]
  },
  {
   "cell_type": "markdown",
   "id": "a3a3ba54",
   "metadata": {
    "papermill": {
     "duration": 0.00263,
     "end_time": "2023-10-02T05:34:49.225383",
     "exception": false,
     "start_time": "2023-10-02T05:34:49.222753",
     "status": "completed"
    },
    "tags": []
   },
   "source": [
    "# Parse video info"
   ]
  },
  {
   "cell_type": "code",
   "execution_count": 4,
   "id": "c6fdda93",
   "metadata": {
    "papermill": {
     "duration": 0.010036,
     "end_time": "2023-10-02T05:34:49.238095",
     "exception": false,
     "start_time": "2023-10-02T05:34:49.228059",
     "status": "completed"
    },
    "tags": []
   },
   "outputs": [],
   "source": [
    "videos_dir = 'D:/AIChallenge/data_sotuyen2/video'\n",
    "all_video_paths = dict()\n",
    "for part in sorted(os.listdir(videos_dir)):\n",
    "    data_part = part.split('_')[-1] # L01, L02 for ex\n",
    "    all_video_paths[data_part] =  dict()\n",
    "\n",
    "for data_part in sorted(all_video_paths.keys()):\n",
    "    data_part_path = f'{videos_dir}/Videos_{data_part}/video'\n",
    "    video_paths = sorted(os.listdir(data_part_path))\n",
    "    video_ids = [video_path.replace('.mp4', '').split('_')[-1] for video_path in video_paths]\n",
    "    for video_id, video_path in zip(video_ids, video_paths):\n",
    "        video_path_full = f'{data_part_path}/{video_path}'\n",
    "        all_video_paths[data_part][video_id] = video_path_full"
   ]
  },
  {
   "cell_type": "code",
   "execution_count": 5,
   "id": "2db50cd4-de70-4154-b087-62708f608850",
   "metadata": {},
   "outputs": [
    {
     "name": "stdout",
     "output_type": "stream",
     "text": [
      "{'L13': {'V001': 'D:/AIChallenge/data_sotuyen2/video/Videos_L13/video/L13_V001.mp4', 'V002': 'D:/AIChallenge/data_sotuyen2/video/Videos_L13/video/L13_V002.mp4', 'V003': 'D:/AIChallenge/data_sotuyen2/video/Videos_L13/video/L13_V003.mp4', 'V004': 'D:/AIChallenge/data_sotuyen2/video/Videos_L13/video/L13_V004.mp4', 'V005': 'D:/AIChallenge/data_sotuyen2/video/Videos_L13/video/L13_V005.mp4', 'V006': 'D:/AIChallenge/data_sotuyen2/video/Videos_L13/video/L13_V006.mp4', 'V007': 'D:/AIChallenge/data_sotuyen2/video/Videos_L13/video/L13_V007.mp4', 'V008': 'D:/AIChallenge/data_sotuyen2/video/Videos_L13/video/L13_V008.mp4', 'V009': 'D:/AIChallenge/data_sotuyen2/video/Videos_L13/video/L13_V009.mp4', 'V010': 'D:/AIChallenge/data_sotuyen2/video/Videos_L13/video/L13_V010.mp4', 'V011': 'D:/AIChallenge/data_sotuyen2/video/Videos_L13/video/L13_V011.mp4', 'V012': 'D:/AIChallenge/data_sotuyen2/video/Videos_L13/video/L13_V012.mp4', 'V013': 'D:/AIChallenge/data_sotuyen2/video/Videos_L13/video/L13_V013.mp4', 'V014': 'D:/AIChallenge/data_sotuyen2/video/Videos_L13/video/L13_V014.mp4', 'V015': 'D:/AIChallenge/data_sotuyen2/video/Videos_L13/video/L13_V015.mp4', 'V016': 'D:/AIChallenge/data_sotuyen2/video/Videos_L13/video/L13_V016.mp4', 'V017': 'D:/AIChallenge/data_sotuyen2/video/Videos_L13/video/L13_V017.mp4', 'V018': 'D:/AIChallenge/data_sotuyen2/video/Videos_L13/video/L13_V018.mp4', 'V019': 'D:/AIChallenge/data_sotuyen2/video/Videos_L13/video/L13_V019.mp4', 'V020': 'D:/AIChallenge/data_sotuyen2/video/Videos_L13/video/L13_V020.mp4', 'V021': 'D:/AIChallenge/data_sotuyen2/video/Videos_L13/video/L13_V021.mp4', 'V022': 'D:/AIChallenge/data_sotuyen2/video/Videos_L13/video/L13_V022.mp4', 'V023': 'D:/AIChallenge/data_sotuyen2/video/Videos_L13/video/L13_V023.mp4', 'V024': 'D:/AIChallenge/data_sotuyen2/video/Videos_L13/video/L13_V024.mp4', 'V025': 'D:/AIChallenge/data_sotuyen2/video/Videos_L13/video/L13_V025.mp4', 'V026': 'D:/AIChallenge/data_sotuyen2/video/Videos_L13/video/L13_V026.mp4', 'V027': 'D:/AIChallenge/data_sotuyen2/video/Videos_L13/video/L13_V027.mp4', 'V028': 'D:/AIChallenge/data_sotuyen2/video/Videos_L13/video/L13_V028.mp4', 'V029': 'D:/AIChallenge/data_sotuyen2/video/Videos_L13/video/L13_V029.mp4', 'V030': 'D:/AIChallenge/data_sotuyen2/video/Videos_L13/video/L13_V030.mp4'}, 'L14': {'V001': 'D:/AIChallenge/data_sotuyen2/video/Videos_L14/video/L14_V001.mp4', 'V002': 'D:/AIChallenge/data_sotuyen2/video/Videos_L14/video/L14_V002.mp4', 'V003': 'D:/AIChallenge/data_sotuyen2/video/Videos_L14/video/L14_V003.mp4', 'V004': 'D:/AIChallenge/data_sotuyen2/video/Videos_L14/video/L14_V004.mp4', 'V005': 'D:/AIChallenge/data_sotuyen2/video/Videos_L14/video/L14_V005.mp4', 'V006': 'D:/AIChallenge/data_sotuyen2/video/Videos_L14/video/L14_V006.mp4', 'V007': 'D:/AIChallenge/data_sotuyen2/video/Videos_L14/video/L14_V007.mp4', 'V008': 'D:/AIChallenge/data_sotuyen2/video/Videos_L14/video/L14_V008.mp4', 'V009': 'D:/AIChallenge/data_sotuyen2/video/Videos_L14/video/L14_V009.mp4', 'V011': 'D:/AIChallenge/data_sotuyen2/video/Videos_L14/video/L14_V011.mp4', 'V012': 'D:/AIChallenge/data_sotuyen2/video/Videos_L14/video/L14_V012.mp4', 'V013': 'D:/AIChallenge/data_sotuyen2/video/Videos_L14/video/L14_V013.mp4', 'V014': 'D:/AIChallenge/data_sotuyen2/video/Videos_L14/video/L14_V014.mp4', 'V015': 'D:/AIChallenge/data_sotuyen2/video/Videos_L14/video/L14_V015.mp4', 'V016': 'D:/AIChallenge/data_sotuyen2/video/Videos_L14/video/L14_V016.mp4', 'V017': 'D:/AIChallenge/data_sotuyen2/video/Videos_L14/video/L14_V017.mp4', 'V018': 'D:/AIChallenge/data_sotuyen2/video/Videos_L14/video/L14_V018.mp4', 'V019': 'D:/AIChallenge/data_sotuyen2/video/Videos_L14/video/L14_V019.mp4', 'V020': 'D:/AIChallenge/data_sotuyen2/video/Videos_L14/video/L14_V020.mp4', 'V021': 'D:/AIChallenge/data_sotuyen2/video/Videos_L14/video/L14_V021.mp4', 'V022': 'D:/AIChallenge/data_sotuyen2/video/Videos_L14/video/L14_V022.mp4', 'V023': 'D:/AIChallenge/data_sotuyen2/video/Videos_L14/video/L14_V023.mp4', 'V024': 'D:/AIChallenge/data_sotuyen2/video/Videos_L14/video/L14_V024.mp4', 'V025': 'D:/AIChallenge/data_sotuyen2/video/Videos_L14/video/L14_V025.mp4', 'V026': 'D:/AIChallenge/data_sotuyen2/video/Videos_L14/video/L14_V026.mp4', 'V027': 'D:/AIChallenge/data_sotuyen2/video/Videos_L14/video/L14_V027.mp4', 'V028': 'D:/AIChallenge/data_sotuyen2/video/Videos_L14/video/L14_V028.mp4'}, 'L15': {'V001': 'D:/AIChallenge/data_sotuyen2/video/Videos_L15/video/L15_V001.mp4', 'V002': 'D:/AIChallenge/data_sotuyen2/video/Videos_L15/video/L15_V002.mp4', 'V003': 'D:/AIChallenge/data_sotuyen2/video/Videos_L15/video/L15_V003.mp4', 'V004': 'D:/AIChallenge/data_sotuyen2/video/Videos_L15/video/L15_V004.mp4', 'V005': 'D:/AIChallenge/data_sotuyen2/video/Videos_L15/video/L15_V005.mp4', 'V006': 'D:/AIChallenge/data_sotuyen2/video/Videos_L15/video/L15_V006.mp4', 'V007': 'D:/AIChallenge/data_sotuyen2/video/Videos_L15/video/L15_V007.mp4', 'V008': 'D:/AIChallenge/data_sotuyen2/video/Videos_L15/video/L15_V008.mp4', 'V009': 'D:/AIChallenge/data_sotuyen2/video/Videos_L15/video/L15_V009.mp4', 'V010': 'D:/AIChallenge/data_sotuyen2/video/Videos_L15/video/L15_V010.mp4', 'V011': 'D:/AIChallenge/data_sotuyen2/video/Videos_L15/video/L15_V011.mp4', 'V012': 'D:/AIChallenge/data_sotuyen2/video/Videos_L15/video/L15_V012.mp4', 'V013': 'D:/AIChallenge/data_sotuyen2/video/Videos_L15/video/L15_V013.mp4', 'V014': 'D:/AIChallenge/data_sotuyen2/video/Videos_L15/video/L15_V014.mp4', 'V015': 'D:/AIChallenge/data_sotuyen2/video/Videos_L15/video/L15_V015.mp4', 'V016': 'D:/AIChallenge/data_sotuyen2/video/Videos_L15/video/L15_V016.mp4', 'V017': 'D:/AIChallenge/data_sotuyen2/video/Videos_L15/video/L15_V017.mp4', 'V018': 'D:/AIChallenge/data_sotuyen2/video/Videos_L15/video/L15_V018.mp4', 'V019': 'D:/AIChallenge/data_sotuyen2/video/Videos_L15/video/L15_V019.mp4', 'V020': 'D:/AIChallenge/data_sotuyen2/video/Videos_L15/video/L15_V020.mp4', 'V021': 'D:/AIChallenge/data_sotuyen2/video/Videos_L15/video/L15_V021.mp4', 'V022': 'D:/AIChallenge/data_sotuyen2/video/Videos_L15/video/L15_V022.mp4', 'V023': 'D:/AIChallenge/data_sotuyen2/video/Videos_L15/video/L15_V023.mp4', 'V024': 'D:/AIChallenge/data_sotuyen2/video/Videos_L15/video/L15_V024.mp4', 'V025': 'D:/AIChallenge/data_sotuyen2/video/Videos_L15/video/L15_V025.mp4', 'V026': 'D:/AIChallenge/data_sotuyen2/video/Videos_L15/video/L15_V026.mp4', 'V027': 'D:/AIChallenge/data_sotuyen2/video/Videos_L15/video/L15_V027.mp4', 'V028': 'D:/AIChallenge/data_sotuyen2/video/Videos_L15/video/L15_V028.mp4', 'V029': 'D:/AIChallenge/data_sotuyen2/video/Videos_L15/video/L15_V029.mp4', 'V030': 'D:/AIChallenge/data_sotuyen2/video/Videos_L15/video/L15_V030.mp4', 'V031': 'D:/AIChallenge/data_sotuyen2/video/Videos_L15/video/L15_V031.mp4'}, 'L16': {'V001': 'D:/AIChallenge/data_sotuyen2/video/Videos_L16/video/L16_V001.mp4', 'V002': 'D:/AIChallenge/data_sotuyen2/video/Videos_L16/video/L16_V002.mp4', 'V003': 'D:/AIChallenge/data_sotuyen2/video/Videos_L16/video/L16_V003.mp4', 'V004': 'D:/AIChallenge/data_sotuyen2/video/Videos_L16/video/L16_V004.mp4', 'V005': 'D:/AIChallenge/data_sotuyen2/video/Videos_L16/video/L16_V005.mp4', 'V006': 'D:/AIChallenge/data_sotuyen2/video/Videos_L16/video/L16_V006.mp4', 'V007': 'D:/AIChallenge/data_sotuyen2/video/Videos_L16/video/L16_V007.mp4', 'V008': 'D:/AIChallenge/data_sotuyen2/video/Videos_L16/video/L16_V008.mp4', 'V009': 'D:/AIChallenge/data_sotuyen2/video/Videos_L16/video/L16_V009.mp4', 'V010': 'D:/AIChallenge/data_sotuyen2/video/Videos_L16/video/L16_V010.mp4', 'V011': 'D:/AIChallenge/data_sotuyen2/video/Videos_L16/video/L16_V011.mp4', 'V012': 'D:/AIChallenge/data_sotuyen2/video/Videos_L16/video/L16_V012.mp4', 'V013': 'D:/AIChallenge/data_sotuyen2/video/Videos_L16/video/L16_V013.mp4', 'V014': 'D:/AIChallenge/data_sotuyen2/video/Videos_L16/video/L16_V014.mp4', 'V015': 'D:/AIChallenge/data_sotuyen2/video/Videos_L16/video/L16_V015.mp4', 'V016': 'D:/AIChallenge/data_sotuyen2/video/Videos_L16/video/L16_V016.mp4', 'V017': 'D:/AIChallenge/data_sotuyen2/video/Videos_L16/video/L16_V017.mp4', 'V018': 'D:/AIChallenge/data_sotuyen2/video/Videos_L16/video/L16_V018.mp4', 'V019': 'D:/AIChallenge/data_sotuyen2/video/Videos_L16/video/L16_V019.mp4', 'V020': 'D:/AIChallenge/data_sotuyen2/video/Videos_L16/video/L16_V020.mp4', 'V021': 'D:/AIChallenge/data_sotuyen2/video/Videos_L16/video/L16_V021.mp4', 'V022': 'D:/AIChallenge/data_sotuyen2/video/Videos_L16/video/L16_V022.mp4', 'V023': 'D:/AIChallenge/data_sotuyen2/video/Videos_L16/video/L16_V023.mp4', 'V024': 'D:/AIChallenge/data_sotuyen2/video/Videos_L16/video/L16_V024.mp4', 'V025': 'D:/AIChallenge/data_sotuyen2/video/Videos_L16/video/L16_V025.mp4', 'V026': 'D:/AIChallenge/data_sotuyen2/video/Videos_L16/video/L16_V026.mp4', 'V027': 'D:/AIChallenge/data_sotuyen2/video/Videos_L16/video/L16_V027.mp4', 'V028': 'D:/AIChallenge/data_sotuyen2/video/Videos_L16/video/L16_V028.mp4', 'V029': 'D:/AIChallenge/data_sotuyen2/video/Videos_L16/video/L16_V029.mp4', 'V030': 'D:/AIChallenge/data_sotuyen2/video/Videos_L16/video/L16_V030.mp4', 'V031': 'D:/AIChallenge/data_sotuyen2/video/Videos_L16/video/L16_V031.mp4'}, 'L17': {'V001': 'D:/AIChallenge/data_sotuyen2/video/Videos_L17/video/L17_V001.mp4', 'V002': 'D:/AIChallenge/data_sotuyen2/video/Videos_L17/video/L17_V002.mp4', 'V003': 'D:/AIChallenge/data_sotuyen2/video/Videos_L17/video/L17_V003.mp4', 'V004': 'D:/AIChallenge/data_sotuyen2/video/Videos_L17/video/L17_V004.mp4', 'V005': 'D:/AIChallenge/data_sotuyen2/video/Videos_L17/video/L17_V005.mp4', 'V006': 'D:/AIChallenge/data_sotuyen2/video/Videos_L17/video/L17_V006.mp4', 'V007': 'D:/AIChallenge/data_sotuyen2/video/Videos_L17/video/L17_V007.mp4', 'V009': 'D:/AIChallenge/data_sotuyen2/video/Videos_L17/video/L17_V009.mp4', 'V010': 'D:/AIChallenge/data_sotuyen2/video/Videos_L17/video/L17_V010.mp4', 'V011': 'D:/AIChallenge/data_sotuyen2/video/Videos_L17/video/L17_V011.mp4', 'V012': 'D:/AIChallenge/data_sotuyen2/video/Videos_L17/video/L17_V012.mp4', 'V013': 'D:/AIChallenge/data_sotuyen2/video/Videos_L17/video/L17_V013.mp4', 'V014': 'D:/AIChallenge/data_sotuyen2/video/Videos_L17/video/L17_V014.mp4', 'V015': 'D:/AIChallenge/data_sotuyen2/video/Videos_L17/video/L17_V015.mp4', 'V016': 'D:/AIChallenge/data_sotuyen2/video/Videos_L17/video/L17_V016.mp4', 'V017': 'D:/AIChallenge/data_sotuyen2/video/Videos_L17/video/L17_V017.mp4', 'V018': 'D:/AIChallenge/data_sotuyen2/video/Videos_L17/video/L17_V018.mp4', 'V019': 'D:/AIChallenge/data_sotuyen2/video/Videos_L17/video/L17_V019.mp4', 'V020': 'D:/AIChallenge/data_sotuyen2/video/Videos_L17/video/L17_V020.mp4', 'V021': 'D:/AIChallenge/data_sotuyen2/video/Videos_L17/video/L17_V021.mp4', 'V022': 'D:/AIChallenge/data_sotuyen2/video/Videos_L17/video/L17_V022.mp4', 'V023': 'D:/AIChallenge/data_sotuyen2/video/Videos_L17/video/L17_V023.mp4', 'V024': 'D:/AIChallenge/data_sotuyen2/video/Videos_L17/video/L17_V024.mp4', 'V025': 'D:/AIChallenge/data_sotuyen2/video/Videos_L17/video/L17_V025.mp4', 'V026': 'D:/AIChallenge/data_sotuyen2/video/Videos_L17/video/L17_V026.mp4', 'V027': 'D:/AIChallenge/data_sotuyen2/video/Videos_L17/video/L17_V027.mp4', 'V028': 'D:/AIChallenge/data_sotuyen2/video/Videos_L17/video/L17_V028.mp4', 'V029': 'D:/AIChallenge/data_sotuyen2/video/Videos_L17/video/L17_V029.mp4'}, 'L18': {'V001': 'D:/AIChallenge/data_sotuyen2/video/Videos_L18/video/L18_V001.mp4', 'V002': 'D:/AIChallenge/data_sotuyen2/video/Videos_L18/video/L18_V002.mp4', 'V003': 'D:/AIChallenge/data_sotuyen2/video/Videos_L18/video/L18_V003.mp4', 'V004': 'D:/AIChallenge/data_sotuyen2/video/Videos_L18/video/L18_V004.mp4', 'V005': 'D:/AIChallenge/data_sotuyen2/video/Videos_L18/video/L18_V005.mp4', 'V006': 'D:/AIChallenge/data_sotuyen2/video/Videos_L18/video/L18_V006.mp4', 'V007': 'D:/AIChallenge/data_sotuyen2/video/Videos_L18/video/L18_V007.mp4', 'V008': 'D:/AIChallenge/data_sotuyen2/video/Videos_L18/video/L18_V008.mp4', 'V009': 'D:/AIChallenge/data_sotuyen2/video/Videos_L18/video/L18_V009.mp4', 'V010': 'D:/AIChallenge/data_sotuyen2/video/Videos_L18/video/L18_V010.mp4', 'V011': 'D:/AIChallenge/data_sotuyen2/video/Videos_L18/video/L18_V011.mp4', 'V012': 'D:/AIChallenge/data_sotuyen2/video/Videos_L18/video/L18_V012.mp4', 'V013': 'D:/AIChallenge/data_sotuyen2/video/Videos_L18/video/L18_V013.mp4', 'V014': 'D:/AIChallenge/data_sotuyen2/video/Videos_L18/video/L18_V014.mp4', 'V015': 'D:/AIChallenge/data_sotuyen2/video/Videos_L18/video/L18_V015.mp4', 'V016': 'D:/AIChallenge/data_sotuyen2/video/Videos_L18/video/L18_V016.mp4', 'V017': 'D:/AIChallenge/data_sotuyen2/video/Videos_L18/video/L18_V017.mp4', 'V018': 'D:/AIChallenge/data_sotuyen2/video/Videos_L18/video/L18_V018.mp4', 'V019': 'D:/AIChallenge/data_sotuyen2/video/Videos_L18/video/L18_V019.mp4', 'V020': 'D:/AIChallenge/data_sotuyen2/video/Videos_L18/video/L18_V020.mp4', 'V021': 'D:/AIChallenge/data_sotuyen2/video/Videos_L18/video/L18_V021.mp4', 'V022': 'D:/AIChallenge/data_sotuyen2/video/Videos_L18/video/L18_V022.mp4', 'V023': 'D:/AIChallenge/data_sotuyen2/video/Videos_L18/video/L18_V023.mp4', 'V024': 'D:/AIChallenge/data_sotuyen2/video/Videos_L18/video/L18_V024.mp4', 'V025': 'D:/AIChallenge/data_sotuyen2/video/Videos_L18/video/L18_V025.mp4', 'V026': 'D:/AIChallenge/data_sotuyen2/video/Videos_L18/video/L18_V026.mp4', 'V027': 'D:/AIChallenge/data_sotuyen2/video/Videos_L18/video/L18_V027.mp4', 'V028': 'D:/AIChallenge/data_sotuyen2/video/Videos_L18/video/L18_V028.mp4', 'V029': 'D:/AIChallenge/data_sotuyen2/video/Videos_L18/video/L18_V029.mp4'}, 'L19': {'V001': 'D:/AIChallenge/data_sotuyen2/video/Videos_L19/video/L19_V001.mp4', 'V003': 'D:/AIChallenge/data_sotuyen2/video/Videos_L19/video/L19_V003.mp4', 'V004': 'D:/AIChallenge/data_sotuyen2/video/Videos_L19/video/L19_V004.mp4', 'V005': 'D:/AIChallenge/data_sotuyen2/video/Videos_L19/video/L19_V005.mp4', 'V006': 'D:/AIChallenge/data_sotuyen2/video/Videos_L19/video/L19_V006.mp4', 'V007': 'D:/AIChallenge/data_sotuyen2/video/Videos_L19/video/L19_V007.mp4', 'V008': 'D:/AIChallenge/data_sotuyen2/video/Videos_L19/video/L19_V008.mp4', 'V009': 'D:/AIChallenge/data_sotuyen2/video/Videos_L19/video/L19_V009.mp4', 'V010': 'D:/AIChallenge/data_sotuyen2/video/Videos_L19/video/L19_V010.mp4', 'V011': 'D:/AIChallenge/data_sotuyen2/video/Videos_L19/video/L19_V011.mp4', 'V012': 'D:/AIChallenge/data_sotuyen2/video/Videos_L19/video/L19_V012.mp4', 'V013': 'D:/AIChallenge/data_sotuyen2/video/Videos_L19/video/L19_V013.mp4', 'V014': 'D:/AIChallenge/data_sotuyen2/video/Videos_L19/video/L19_V014.mp4', 'V015': 'D:/AIChallenge/data_sotuyen2/video/Videos_L19/video/L19_V015.mp4', 'V016': 'D:/AIChallenge/data_sotuyen2/video/Videos_L19/video/L19_V016.mp4', 'V017': 'D:/AIChallenge/data_sotuyen2/video/Videos_L19/video/L19_V017.mp4', 'V018': 'D:/AIChallenge/data_sotuyen2/video/Videos_L19/video/L19_V018.mp4', 'V019': 'D:/AIChallenge/data_sotuyen2/video/Videos_L19/video/L19_V019.mp4', 'V020': 'D:/AIChallenge/data_sotuyen2/video/Videos_L19/video/L19_V020.mp4', 'V021': 'D:/AIChallenge/data_sotuyen2/video/Videos_L19/video/L19_V021.mp4', 'V022': 'D:/AIChallenge/data_sotuyen2/video/Videos_L19/video/L19_V022.mp4', 'V023': 'D:/AIChallenge/data_sotuyen2/video/Videos_L19/video/L19_V023.mp4', 'V024': 'D:/AIChallenge/data_sotuyen2/video/Videos_L19/video/L19_V024.mp4', 'V025': 'D:/AIChallenge/data_sotuyen2/video/Videos_L19/video/L19_V025.mp4', 'V026': 'D:/AIChallenge/data_sotuyen2/video/Videos_L19/video/L19_V026.mp4', 'V027': 'D:/AIChallenge/data_sotuyen2/video/Videos_L19/video/L19_V027.mp4', 'V028': 'D:/AIChallenge/data_sotuyen2/video/Videos_L19/video/L19_V028.mp4', 'V029': 'D:/AIChallenge/data_sotuyen2/video/Videos_L19/video/L19_V029.mp4', 'V030': 'D:/AIChallenge/data_sotuyen2/video/Videos_L19/video/L19_V030.mp4', 'V031': 'D:/AIChallenge/data_sotuyen2/video/Videos_L19/video/L19_V031.mp4'}, 'L20': {'V001': 'D:/AIChallenge/data_sotuyen2/video/Videos_L20/video/L20_V001.mp4', 'V002': 'D:/AIChallenge/data_sotuyen2/video/Videos_L20/video/L20_V002.mp4', 'V003': 'D:/AIChallenge/data_sotuyen2/video/Videos_L20/video/L20_V003.mp4', 'V004': 'D:/AIChallenge/data_sotuyen2/video/Videos_L20/video/L20_V004.mp4', 'V005': 'D:/AIChallenge/data_sotuyen2/video/Videos_L20/video/L20_V005.mp4', 'V006': 'D:/AIChallenge/data_sotuyen2/video/Videos_L20/video/L20_V006.mp4', 'V007': 'D:/AIChallenge/data_sotuyen2/video/Videos_L20/video/L20_V007.mp4', 'V008': 'D:/AIChallenge/data_sotuyen2/video/Videos_L20/video/L20_V008.mp4', 'V009': 'D:/AIChallenge/data_sotuyen2/video/Videos_L20/video/L20_V009.mp4', 'V010': 'D:/AIChallenge/data_sotuyen2/video/Videos_L20/video/L20_V010.mp4', 'V011': 'D:/AIChallenge/data_sotuyen2/video/Videos_L20/video/L20_V011.mp4', 'V012': 'D:/AIChallenge/data_sotuyen2/video/Videos_L20/video/L20_V012.mp4', 'V013': 'D:/AIChallenge/data_sotuyen2/video/Videos_L20/video/L20_V013.mp4', 'V014': 'D:/AIChallenge/data_sotuyen2/video/Videos_L20/video/L20_V014.mp4', 'V015': 'D:/AIChallenge/data_sotuyen2/video/Videos_L20/video/L20_V015.mp4', 'V016': 'D:/AIChallenge/data_sotuyen2/video/Videos_L20/video/L20_V016.mp4', 'V017': 'D:/AIChallenge/data_sotuyen2/video/Videos_L20/video/L20_V017.mp4', 'V018': 'D:/AIChallenge/data_sotuyen2/video/Videos_L20/video/L20_V018.mp4', 'V019': 'D:/AIChallenge/data_sotuyen2/video/Videos_L20/video/L20_V019.mp4', 'V020': 'D:/AIChallenge/data_sotuyen2/video/Videos_L20/video/L20_V020.mp4', 'V021': 'D:/AIChallenge/data_sotuyen2/video/Videos_L20/video/L20_V021.mp4', 'V022': 'D:/AIChallenge/data_sotuyen2/video/Videos_L20/video/L20_V022.mp4', 'V024': 'D:/AIChallenge/data_sotuyen2/video/Videos_L20/video/L20_V024.mp4', 'V025': 'D:/AIChallenge/data_sotuyen2/video/Videos_L20/video/L20_V025.mp4', 'V027': 'D:/AIChallenge/data_sotuyen2/video/Videos_L20/video/L20_V027.mp4', 'V028': 'D:/AIChallenge/data_sotuyen2/video/Videos_L20/video/L20_V028.mp4', 'V029': 'D:/AIChallenge/data_sotuyen2/video/Videos_L20/video/L20_V029.mp4', 'V030': 'D:/AIChallenge/data_sotuyen2/video/Videos_L20/video/L20_V030.mp4', 'V031': 'D:/AIChallenge/data_sotuyen2/video/Videos_L20/video/L20_V031.mp4'}, 'L21': {'V001': 'D:/AIChallenge/data_sotuyen2/video/Videos_L21/video/L21_V001.mp4', 'V002': 'D:/AIChallenge/data_sotuyen2/video/Videos_L21/video/L21_V002.mp4', 'V003': 'D:/AIChallenge/data_sotuyen2/video/Videos_L21/video/L21_V003.mp4', 'V005': 'D:/AIChallenge/data_sotuyen2/video/Videos_L21/video/L21_V005.mp4', 'V006': 'D:/AIChallenge/data_sotuyen2/video/Videos_L21/video/L21_V006.mp4', 'V007': 'D:/AIChallenge/data_sotuyen2/video/Videos_L21/video/L21_V007.mp4', 'V008': 'D:/AIChallenge/data_sotuyen2/video/Videos_L21/video/L21_V008.mp4', 'V009': 'D:/AIChallenge/data_sotuyen2/video/Videos_L21/video/L21_V009.mp4', 'V010': 'D:/AIChallenge/data_sotuyen2/video/Videos_L21/video/L21_V010.mp4', 'V011': 'D:/AIChallenge/data_sotuyen2/video/Videos_L21/video/L21_V011.mp4', 'V012': 'D:/AIChallenge/data_sotuyen2/video/Videos_L21/video/L21_V012.mp4', 'V013': 'D:/AIChallenge/data_sotuyen2/video/Videos_L21/video/L21_V013.mp4', 'V014': 'D:/AIChallenge/data_sotuyen2/video/Videos_L21/video/L21_V014.mp4', 'V015': 'D:/AIChallenge/data_sotuyen2/video/Videos_L21/video/L21_V015.mp4', 'V016': 'D:/AIChallenge/data_sotuyen2/video/Videos_L21/video/L21_V016.mp4', 'V017': 'D:/AIChallenge/data_sotuyen2/video/Videos_L21/video/L21_V017.mp4', 'V018': 'D:/AIChallenge/data_sotuyen2/video/Videos_L21/video/L21_V018.mp4', 'V019': 'D:/AIChallenge/data_sotuyen2/video/Videos_L21/video/L21_V019.mp4', 'V021': 'D:/AIChallenge/data_sotuyen2/video/Videos_L21/video/L21_V021.mp4', 'V022': 'D:/AIChallenge/data_sotuyen2/video/Videos_L21/video/L21_V022.mp4', 'V023': 'D:/AIChallenge/data_sotuyen2/video/Videos_L21/video/L21_V023.mp4', 'V024': 'D:/AIChallenge/data_sotuyen2/video/Videos_L21/video/L21_V024.mp4', 'V025': 'D:/AIChallenge/data_sotuyen2/video/Videos_L21/video/L21_V025.mp4', 'V026': 'D:/AIChallenge/data_sotuyen2/video/Videos_L21/video/L21_V026.mp4', 'V027': 'D:/AIChallenge/data_sotuyen2/video/Videos_L21/video/L21_V027.mp4', 'V028': 'D:/AIChallenge/data_sotuyen2/video/Videos_L21/video/L21_V028.mp4', 'V029': 'D:/AIChallenge/data_sotuyen2/video/Videos_L21/video/L21_V029.mp4', 'V030': 'D:/AIChallenge/data_sotuyen2/video/Videos_L21/video/L21_V030.mp4', 'V031': 'D:/AIChallenge/data_sotuyen2/video/Videos_L21/video/L21_V031.mp4'}, 'L22': {'V001': 'D:/AIChallenge/data_sotuyen2/video/Videos_L22/video/L22_V001.mp4', 'V002': 'D:/AIChallenge/data_sotuyen2/video/Videos_L22/video/L22_V002.mp4', 'V003': 'D:/AIChallenge/data_sotuyen2/video/Videos_L22/video/L22_V003.mp4', 'V004': 'D:/AIChallenge/data_sotuyen2/video/Videos_L22/video/L22_V004.mp4', 'V005': 'D:/AIChallenge/data_sotuyen2/video/Videos_L22/video/L22_V005.mp4', 'V006': 'D:/AIChallenge/data_sotuyen2/video/Videos_L22/video/L22_V006.mp4', 'V007': 'D:/AIChallenge/data_sotuyen2/video/Videos_L22/video/L22_V007.mp4', 'V008': 'D:/AIChallenge/data_sotuyen2/video/Videos_L22/video/L22_V008.mp4', 'V009': 'D:/AIChallenge/data_sotuyen2/video/Videos_L22/video/L22_V009.mp4', 'V010': 'D:/AIChallenge/data_sotuyen2/video/Videos_L22/video/L22_V010.mp4', 'V011': 'D:/AIChallenge/data_sotuyen2/video/Videos_L22/video/L22_V011.mp4', 'V012': 'D:/AIChallenge/data_sotuyen2/video/Videos_L22/video/L22_V012.mp4', 'V013': 'D:/AIChallenge/data_sotuyen2/video/Videos_L22/video/L22_V013.mp4', 'V014': 'D:/AIChallenge/data_sotuyen2/video/Videos_L22/video/L22_V014.mp4', 'V015': 'D:/AIChallenge/data_sotuyen2/video/Videos_L22/video/L22_V015.mp4', 'V016': 'D:/AIChallenge/data_sotuyen2/video/Videos_L22/video/L22_V016.mp4', 'V017': 'D:/AIChallenge/data_sotuyen2/video/Videos_L22/video/L22_V017.mp4', 'V018': 'D:/AIChallenge/data_sotuyen2/video/Videos_L22/video/L22_V018.mp4', 'V019': 'D:/AIChallenge/data_sotuyen2/video/Videos_L22/video/L22_V019.mp4', 'V020': 'D:/AIChallenge/data_sotuyen2/video/Videos_L22/video/L22_V020.mp4', 'V021': 'D:/AIChallenge/data_sotuyen2/video/Videos_L22/video/L22_V021.mp4', 'V022': 'D:/AIChallenge/data_sotuyen2/video/Videos_L22/video/L22_V022.mp4', 'V023': 'D:/AIChallenge/data_sotuyen2/video/Videos_L22/video/L22_V023.mp4', 'V024': 'D:/AIChallenge/data_sotuyen2/video/Videos_L22/video/L22_V024.mp4', 'V025': 'D:/AIChallenge/data_sotuyen2/video/Videos_L22/video/L22_V025.mp4', 'V026': 'D:/AIChallenge/data_sotuyen2/video/Videos_L22/video/L22_V026.mp4', 'V027': 'D:/AIChallenge/data_sotuyen2/video/Videos_L22/video/L22_V027.mp4', 'V028': 'D:/AIChallenge/data_sotuyen2/video/Videos_L22/video/L22_V028.mp4', 'V029': 'D:/AIChallenge/data_sotuyen2/video/Videos_L22/video/L22_V029.mp4', 'V030': 'D:/AIChallenge/data_sotuyen2/video/Videos_L22/video/L22_V030.mp4', 'V031': 'D:/AIChallenge/data_sotuyen2/video/Videos_L22/video/L22_V031.mp4'}, 'L23': {'V001': 'D:/AIChallenge/data_sotuyen2/video/Videos_L23/video/L23_V001.mp4', 'V002': 'D:/AIChallenge/data_sotuyen2/video/Videos_L23/video/L23_V002.mp4', 'V003': 'D:/AIChallenge/data_sotuyen2/video/Videos_L23/video/L23_V003.mp4', 'V004': 'D:/AIChallenge/data_sotuyen2/video/Videos_L23/video/L23_V004.mp4', 'V005': 'D:/AIChallenge/data_sotuyen2/video/Videos_L23/video/L23_V005.mp4', 'V006': 'D:/AIChallenge/data_sotuyen2/video/Videos_L23/video/L23_V006.mp4', 'V007': 'D:/AIChallenge/data_sotuyen2/video/Videos_L23/video/L23_V007.mp4', 'V008': 'D:/AIChallenge/data_sotuyen2/video/Videos_L23/video/L23_V008.mp4', 'V009': 'D:/AIChallenge/data_sotuyen2/video/Videos_L23/video/L23_V009.mp4', 'V010': 'D:/AIChallenge/data_sotuyen2/video/Videos_L23/video/L23_V010.mp4', 'V011': 'D:/AIChallenge/data_sotuyen2/video/Videos_L23/video/L23_V011.mp4', 'V012': 'D:/AIChallenge/data_sotuyen2/video/Videos_L23/video/L23_V012.mp4', 'V013': 'D:/AIChallenge/data_sotuyen2/video/Videos_L23/video/L23_V013.mp4', 'V014': 'D:/AIChallenge/data_sotuyen2/video/Videos_L23/video/L23_V014.mp4', 'V015': 'D:/AIChallenge/data_sotuyen2/video/Videos_L23/video/L23_V015.mp4', 'V016': 'D:/AIChallenge/data_sotuyen2/video/Videos_L23/video/L23_V016.mp4', 'V017': 'D:/AIChallenge/data_sotuyen2/video/Videos_L23/video/L23_V017.mp4', 'V018': 'D:/AIChallenge/data_sotuyen2/video/Videos_L23/video/L23_V018.mp4', 'V019': 'D:/AIChallenge/data_sotuyen2/video/Videos_L23/video/L23_V019.mp4', 'V020': 'D:/AIChallenge/data_sotuyen2/video/Videos_L23/video/L23_V020.mp4', 'V021': 'D:/AIChallenge/data_sotuyen2/video/Videos_L23/video/L23_V021.mp4', 'V022': 'D:/AIChallenge/data_sotuyen2/video/Videos_L23/video/L23_V022.mp4', 'V023': 'D:/AIChallenge/data_sotuyen2/video/Videos_L23/video/L23_V023.mp4', 'V024': 'D:/AIChallenge/data_sotuyen2/video/Videos_L23/video/L23_V024.mp4', 'V025': 'D:/AIChallenge/data_sotuyen2/video/Videos_L23/video/L23_V025.mp4'}, 'L24': {'V002': 'D:/AIChallenge/data_sotuyen2/video/Videos_L24/video/L24_V002.mp4', 'V003': 'D:/AIChallenge/data_sotuyen2/video/Videos_L24/video/L24_V003.mp4', 'V004': 'D:/AIChallenge/data_sotuyen2/video/Videos_L24/video/L24_V004.mp4', 'V005': 'D:/AIChallenge/data_sotuyen2/video/Videos_L24/video/L24_V005.mp4', 'V006': 'D:/AIChallenge/data_sotuyen2/video/Videos_L24/video/L24_V006.mp4', 'V007': 'D:/AIChallenge/data_sotuyen2/video/Videos_L24/video/L24_V007.mp4', 'V008': 'D:/AIChallenge/data_sotuyen2/video/Videos_L24/video/L24_V008.mp4', 'V009': 'D:/AIChallenge/data_sotuyen2/video/Videos_L24/video/L24_V009.mp4', 'V010': 'D:/AIChallenge/data_sotuyen2/video/Videos_L24/video/L24_V010.mp4', 'V011': 'D:/AIChallenge/data_sotuyen2/video/Videos_L24/video/L24_V011.mp4', 'V012': 'D:/AIChallenge/data_sotuyen2/video/Videos_L24/video/L24_V012.mp4', 'V013': 'D:/AIChallenge/data_sotuyen2/video/Videos_L24/video/L24_V013.mp4', 'V014': 'D:/AIChallenge/data_sotuyen2/video/Videos_L24/video/L24_V014.mp4', 'V015': 'D:/AIChallenge/data_sotuyen2/video/Videos_L24/video/L24_V015.mp4', 'V016': 'D:/AIChallenge/data_sotuyen2/video/Videos_L24/video/L24_V016.mp4', 'V017': 'D:/AIChallenge/data_sotuyen2/video/Videos_L24/video/L24_V017.mp4', 'V018': 'D:/AIChallenge/data_sotuyen2/video/Videos_L24/video/L24_V018.mp4', 'V019': 'D:/AIChallenge/data_sotuyen2/video/Videos_L24/video/L24_V019.mp4', 'V020': 'D:/AIChallenge/data_sotuyen2/video/Videos_L24/video/L24_V020.mp4', 'V021': 'D:/AIChallenge/data_sotuyen2/video/Videos_L24/video/L24_V021.mp4', 'V022': 'D:/AIChallenge/data_sotuyen2/video/Videos_L24/video/L24_V022.mp4', 'V023': 'D:/AIChallenge/data_sotuyen2/video/Videos_L24/video/L24_V023.mp4', 'V024': 'D:/AIChallenge/data_sotuyen2/video/Videos_L24/video/L24_V024.mp4', 'V025': 'D:/AIChallenge/data_sotuyen2/video/Videos_L24/video/L24_V025.mp4', 'V026': 'D:/AIChallenge/data_sotuyen2/video/Videos_L24/video/L24_V026.mp4', 'V027': 'D:/AIChallenge/data_sotuyen2/video/Videos_L24/video/L24_V027.mp4', 'V028': 'D:/AIChallenge/data_sotuyen2/video/Videos_L24/video/L24_V028.mp4', 'V029': 'D:/AIChallenge/data_sotuyen2/video/Videos_L24/video/L24_V029.mp4', 'V030': 'D:/AIChallenge/data_sotuyen2/video/Videos_L24/video/L24_V030.mp4', 'V031': 'D:/AIChallenge/data_sotuyen2/video/Videos_L24/video/L24_V031.mp4', 'V032': 'D:/AIChallenge/data_sotuyen2/video/Videos_L24/video/L24_V032.mp4', 'V033': 'D:/AIChallenge/data_sotuyen2/video/Videos_L24/video/L24_V033.mp4', 'V035': 'D:/AIChallenge/data_sotuyen2/video/Videos_L24/video/L24_V035.mp4', 'V036': 'D:/AIChallenge/data_sotuyen2/video/Videos_L24/video/L24_V036.mp4', 'V037': 'D:/AIChallenge/data_sotuyen2/video/Videos_L24/video/L24_V037.mp4', 'V038': 'D:/AIChallenge/data_sotuyen2/video/Videos_L24/video/L24_V038.mp4', 'V039': 'D:/AIChallenge/data_sotuyen2/video/Videos_L24/video/L24_V039.mp4', 'V040': 'D:/AIChallenge/data_sotuyen2/video/Videos_L24/video/L24_V040.mp4', 'V041': 'D:/AIChallenge/data_sotuyen2/video/Videos_L24/video/L24_V041.mp4', 'V042': 'D:/AIChallenge/data_sotuyen2/video/Videos_L24/video/L24_V042.mp4', 'V043': 'D:/AIChallenge/data_sotuyen2/video/Videos_L24/video/L24_V043.mp4', 'V044': 'D:/AIChallenge/data_sotuyen2/video/Videos_L24/video/L24_V044.mp4', 'V045': 'D:/AIChallenge/data_sotuyen2/video/Videos_L24/video/L24_V045.mp4'}}\n"
     ]
    }
   ],
   "source": [
    "print( all_video_paths)"
   ]
  },
  {
   "cell_type": "markdown",
   "id": "3990ca30",
   "metadata": {
    "papermill": {
     "duration": 0.002565,
     "end_time": "2023-10-02T05:34:49.330306",
     "exception": false,
     "start_time": "2023-10-02T05:34:49.327741",
     "status": "completed"
    },
    "tags": []
   },
   "source": [
    "# Inference"
   ]
  },
  {
   "cell_type": "code",
   "execution_count": null,
   "id": "7989a995",
   "metadata": {
    "papermill": {
     "duration": 10.415343,
     "end_time": "2023-10-02T05:34:59.748321",
     "exception": false,
     "start_time": "2023-10-02T05:34:49.332978",
     "status": "completed"
    },
    "tags": []
   },
   "outputs": [
    {
     "name": "stdout",
     "output_type": "stream",
     "text": [
      "[TransNetV2] Using weights from D:\\AIChallenge\\data_sotuyen1\\dataset_extraction\\transnet\\TransNetV2\\inference\\transnetv2-weights/.\n",
      "[TransNetV2] Extracting frames from D:/AIChallenge/data_sotuyen2/video/Videos_L13/video/L13_V001.mp4\n",
      "[TransNetV2] Extracting frames from D:/AIChallenge/data_sotuyen2/video/Videos_L13/video/L13_V002.mp4\n",
      "[TransNetV2] Extracting frames from D:/AIChallenge/data_sotuyen2/video/Videos_L13/video/L13_V003.mp4\n",
      "[TransNetV2] Extracting frames from D:/AIChallenge/data_sotuyen2/video/Videos_L13/video/L13_V004.mp4\n",
      "[TransNetV2] Extracting frames from D:/AIChallenge/data_sotuyen2/video/Videos_L13/video/L13_V005.mp4\n",
      "[TransNetV2] Extracting frames from D:/AIChallenge/data_sotuyen2/video/Videos_L13/video/L13_V006.mp4\n",
      "[TransNetV2] Extracting frames from D:/AIChallenge/data_sotuyen2/video/Videos_L13/video/L13_V007.mp4\n",
      "[TransNetV2] Extracting frames from D:/AIChallenge/data_sotuyen2/video/Videos_L13/video/L13_V008.mp4\n",
      "[TransNetV2] Extracting frames from D:/AIChallenge/data_sotuyen2/video/Videos_L13/video/L13_V009.mp4\n",
      "[TransNetV2] Extracting frames from D:/AIChallenge/data_sotuyen2/video/Videos_L13/video/L13_V010.mp4\n",
      "[TransNetV2] Extracting frames from D:/AIChallenge/data_sotuyen2/video/Videos_L13/video/L13_V011.mp4\n",
      "[TransNetV2] Extracting frames from D:/AIChallenge/data_sotuyen2/video/Videos_L13/video/L13_V012.mp4\n"
     ]
    },
    {
     "name": "stderr",
     "output_type": "stream",
     "text": [
      "  0%|                                                                                       | 0/363 [00:00<?, ?it/s]"
     ]
    },
    {
     "name": "stdout",
     "output_type": "stream",
     "text": [
      "[TransNetV2] Processing video frames 1000/30176"
     ]
    }
   ],
   "source": [
    "import concurrent.futures\n",
    "\n",
    "model = TransNetV2() # Khởi tạo model\n",
    "save_dir = 'D:/AIChallenge/data_sotuyen1/dataset_extraction/transnet/SceneJSON'\n",
    "os.makedirs(save_dir, exist_ok=True)\n",
    "\n",
    "def process_video(video_info):\n",
    "    key, video_id, video_path = video_info\n",
    "    _, single_frame_predictions, _ = model.predict_video(video_path)\n",
    "    scenes = model.predictions_to_scenes(single_frame_predictions)\n",
    "    \n",
    "    key_dir = os.path.join(save_dir, key)\n",
    "    os.makedirs(key_dir, exist_ok=True)\n",
    "    \n",
    "    with open(f\"{key_dir}/{video_id}.json\", 'w') as f:\n",
    "        json.dump(scenes.tolist(), f)\n",
    "\n",
    "# Lọc các thư mục bắt đầu bằng 'L19' trở đi\n",
    "video_info_list = [(key, video_id, video_paths_dict[video_id])\n",
    "                   for key, video_paths_dict in all_video_paths.items()\n",
    "                   if key >= 'L13' \n",
    "                   for video_id in sorted(video_paths_dict.keys())]\n",
    "\n",
    "# Sử dụng ThreadPoolExecutor để xử lý song song\n",
    "with concurrent.futures.ThreadPoolExecutor() as executor:\n",
    "    list(tqdm(executor.map(process_video, video_info_list), total=len(video_info_list)))\n"
   ]
  },
  {
   "cell_type": "code",
   "execution_count": 8,
   "id": "dbbf3c18",
   "metadata": {
    "execution": {
     "iopub.execute_input": "2023-10-02T10:22:37.935320Z",
     "iopub.status.busy": "2023-10-02T10:22:37.934810Z",
     "iopub.status.idle": "2023-10-02T10:22:39.030008Z",
     "shell.execute_reply": "2023-10-02T10:22:39.028471Z"
    },
    "papermill": {
     "duration": 1.841836,
     "end_time": "2023-10-02T10:22:39.032765",
     "exception": false,
     "start_time": "2023-10-02T10:22:37.190929",
     "status": "completed"
    },
    "tags": []
   },
   "outputs": [],
   "source": [
    "!rm -r ./TransNetV2"
   ]
  }
 ],
 "metadata": {
  "kernelspec": {
   "display_name": "Python 310",
   "language": "python",
   "name": "py310"
  },
  "language_info": {
   "codemirror_mode": {
    "name": "ipython",
    "version": 3
   },
   "file_extension": ".py",
   "mimetype": "text/x-python",
   "name": "python",
   "nbconvert_exporter": "python",
   "pygments_lexer": "ipython3",
   "version": "3.10.14"
  },
  "papermill": {
   "default_parameters": {},
   "duration": 17307.259832,
   "end_time": "2023-10-02T10:22:45.041932",
   "environment_variables": {},
   "exception": null,
   "input_path": "__notebook__.ipynb",
   "output_path": "__notebook__.ipynb",
   "parameters": {},
   "start_time": "2023-10-02T05:34:17.782100",
   "version": "2.4.0"
  }
 },
 "nbformat": 4,
 "nbformat_minor": 5
}
