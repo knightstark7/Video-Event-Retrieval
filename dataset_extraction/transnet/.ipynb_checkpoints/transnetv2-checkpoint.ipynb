{
 "cells": [
  {
   "cell_type": "code",
   "execution_count": 1,
   "id": "43db011a",
   "metadata": {
    "execution": {
     "iopub.execute_input": "2023-10-02T05:34:25.870630Z",
     "iopub.status.busy": "2023-10-02T05:34:25.869719Z",
     "iopub.status.idle": "2023-10-02T05:34:37.547401Z",
     "shell.execute_reply": "2023-10-02T05:34:37.546030Z"
    },
    "papermill": {
     "duration": 11.683675,
     "end_time": "2023-10-02T05:34:37.549342",
     "exception": false,
     "start_time": "2023-10-02T05:34:25.865667",
     "status": "completed"
    },
    "tags": []
   },
   "outputs": [
    {
     "name": "stdout",
     "output_type": "stream",
     "text": [
      "Requirement already satisfied: ffmpeg-python in d:\\anaconda\\envs\\py310\\lib\\site-packages (0.2.0)\n",
      "Requirement already satisfied: pillow in d:\\anaconda\\envs\\py310\\lib\\site-packages (10.4.0)\n",
      "Requirement already satisfied: future in d:\\anaconda\\envs\\py310\\lib\\site-packages (from ffmpeg-python) (1.0.0)\n",
      "d:\\AIChallenge\\data_sotuyen1\\dataset_extraction\\transnet\\TransNetV2\\inference\n"
     ]
    },
    {
     "name": "stderr",
     "output_type": "stream",
     "text": [
      "Cloning into 'TransNetV2'...\n",
      "Updating files:  48% (15/31)\n",
      "Updating files:  51% (16/31)\n",
      "Updating files:  54% (17/31)\n",
      "Updating files:  58% (18/31)\n",
      "Updating files:  61% (19/31)\n",
      "Updating files:  64% (20/31)\n",
      "Updating files:  67% (21/31)\n",
      "Updating files:  70% (22/31)\n",
      "Updating files:  74% (23/31)\n",
      "Updating files:  77% (24/31)\n",
      "Updating files:  80% (25/31)\n",
      "Updating files:  83% (26/31)\n",
      "Updating files:  87% (27/31)\n",
      "Updating files:  90% (28/31)\n",
      "Updating files:  93% (29/31)\n",
      "Updating files:  96% (30/31)\n",
      "Updating files: 100% (31/31)\n",
      "Updating files: 100% (31/31), done.\n",
      "Filtering content:  66% (2/3)\n",
      "Filtering content: 100% (3/3), 5.66 MiB | 1.44 MiB/s\n",
      "Filtering content: 100% (3/3), 34.77 MiB | 3.15 MiB/s, done.\n"
     ]
    }
   ],
   "source": [
    "!pip install ffmpeg-python pillow\n",
    "!git clone https://github.com/soCzech/TransNetV2.git"
   ]
  },
  {
   "cell_type": "code",
   "execution_count": 2,
   "id": "af4ede34-0aba-4d79-85d6-fe6444da5385",
   "metadata": {},
   "outputs": [
    {
     "name": "stdout",
     "output_type": "stream",
     "text": [
      "D:\\AIChallenge\\data_sotuyen1\\dataset_extraction\\transnet\\TransNetV2\\inference\n"
     ]
    }
   ],
   "source": [
    "%cd TransNetV2/inference"
   ]
  },
  {
   "cell_type": "code",
   "execution_count": 3,
   "id": "6f0e360e",
   "metadata": {
    "papermill": {
     "duration": 11.666998,
     "end_time": "2023-10-02T05:34:49.219467",
     "exception": false,
     "start_time": "2023-10-02T05:34:37.552469",
     "status": "completed"
    },
    "tags": []
   },
   "outputs": [
    {
     "name": "stdout",
     "output_type": "stream",
     "text": [
      "WARNING:tensorflow:From D:\\anaconda\\envs\\py310\\lib\\site-packages\\keras\\src\\losses.py:2976: The name tf.losses.sparse_softmax_cross_entropy is deprecated. Please use tf.compat.v1.losses.sparse_softmax_cross_entropy instead.\n",
      "\n"
     ]
    }
   ],
   "source": [
    "# Import module\n",
    "import os\n",
    "import cv2\n",
    "import json\n",
    "import glob\n",
    "import ffmpeg\n",
    "import torch\n",
    "import numpy as np\n",
    "from tqdm import tqdm\n",
    "from transnetv2 import TransNetV2"
   ]
  },
  {
   "cell_type": "markdown",
   "id": "a3a3ba54",
   "metadata": {
    "papermill": {
     "duration": 0.00263,
     "end_time": "2023-10-02T05:34:49.225383",
     "exception": false,
     "start_time": "2023-10-02T05:34:49.222753",
     "status": "completed"
    },
    "tags": []
   },
   "source": [
    "# Parse video info"
   ]
  },
  {
   "cell_type": "code",
   "execution_count": 4,
   "id": "c6fdda93",
   "metadata": {
    "papermill": {
     "duration": 0.010036,
     "end_time": "2023-10-02T05:34:49.238095",
     "exception": false,
     "start_time": "2023-10-02T05:34:49.228059",
     "status": "completed"
    },
    "tags": []
   },
   "outputs": [],
   "source": [
    "videos_dir = 'D:/AIChallenge/data_sotuyen1/video'\n",
    "all_video_paths = dict()\n",
    "for part in sorted(os.listdir(videos_dir)):\n",
    "    data_part = part.split('_')[-1] # L01, L02 for ex\n",
    "    all_video_paths[data_part] =  dict()\n",
    "\n",
    "for data_part in sorted(all_video_paths.keys()):\n",
    "    data_part_path = f'{videos_dir}/Videos_{data_part}'\n",
    "    video_paths = sorted(os.listdir(data_part_path))\n",
    "    video_ids = [video_path.replace('.mp4', '').split('_')[-1] for video_path in video_paths]\n",
    "    for video_id, video_path in zip(video_ids, video_paths):\n",
    "        video_path_full = f'{data_part_path}/{video_path}'\n",
    "        all_video_paths[data_part][video_id] = video_path_full"
   ]
  },
  {
   "cell_type": "code",
   "execution_count": null,
   "id": "2db50cd4-de70-4154-b087-62708f608850",
   "metadata": {},
   "outputs": [],
   "source": [
    "print( all_video_paths)"
   ]
  },
  {
   "cell_type": "markdown",
   "id": "3990ca30",
   "metadata": {
    "papermill": {
     "duration": 0.002565,
     "end_time": "2023-10-02T05:34:49.330306",
     "exception": false,
     "start_time": "2023-10-02T05:34:49.327741",
     "status": "completed"
    },
    "tags": []
   },
   "source": [
    "# Inference"
   ]
  },
  {
   "cell_type": "code",
   "execution_count": null,
   "id": "7989a995",
   "metadata": {
    "papermill": {
     "duration": 10.415343,
     "end_time": "2023-10-02T05:34:59.748321",
     "exception": false,
     "start_time": "2023-10-02T05:34:49.332978",
     "status": "completed"
    },
    "tags": []
   },
   "outputs": [
    {
     "name": "stdout",
     "output_type": "stream",
     "text": [
      "[TransNetV2] Using weights from D:\\AIChallenge\\data_sotuyen1\\dataset_extraction\\transnet\\TransNetV2\\inference\\transnetv2-weights/.\n",
      "[TransNetV2] Extracting frames from D:/AIChallenge/data_sotuyen1/video/Videos_L06/L06_V001.mp4\n",
      "[TransNetV2] Extracting frames from D:/AIChallenge/data_sotuyen1/video/Videos_L06/L06_V002.mp4\n",
      "[TransNetV2] Extracting frames from D:/AIChallenge/data_sotuyen1/video/Videos_L06/L06_V003.mp4\n",
      "[TransNetV2] Extracting frames from D:/AIChallenge/data_sotuyen1/video/Videos_L06/L06_V004.mp4\n",
      "[TransNetV2] Extracting frames from D:/AIChallenge/data_sotuyen1/video/Videos_L06/L06_V005.mp4\n",
      "[TransNetV2] Extracting frames from D:/AIChallenge/data_sotuyen1/video/Videos_L06/L06_V006.mp4\n",
      "[TransNetV2] Extracting frames from D:/AIChallenge/data_sotuyen1/video/Videos_L06/L06_V007.mp4\n",
      "[TransNetV2] Extracting frames from D:/AIChallenge/data_sotuyen1/video/Videos_L06/L06_V008.mp4\n",
      "[TransNetV2] Extracting frames from D:/AIChallenge/data_sotuyen1/video/Videos_L06/L06_V009.mp4\n",
      "[TransNetV2] Extracting frames from D:/AIChallenge/data_sotuyen1/video/Videos_L06/L06_V010.mp4\n",
      "[TransNetV2] Extracting frames from D:/AIChallenge/data_sotuyen1/video/Videos_L06/L06_V011.mp4\n",
      "[TransNetV2] Extracting frames from D:/AIChallenge/data_sotuyen1/video/Videos_L06/L06_V012.mp4\n"
     ]
    },
    {
     "name": "stderr",
     "output_type": "stream",
     "text": [
      "  0%|                                                                                       | 0/210 [00:00<?, ?it/s]"
     ]
    },
    {
     "name": "stdout",
     "output_type": "stream",
     "text": [
      "[TransNetV2] Processing video frames 25618/25618\n",
      "[TransNetV2] Processing video frames 25750/28515[TransNetV2] Extracting frames from D:/AIChallenge/data_sotuyen1/video/Videos_L06/L06_V013.mp4\n",
      "[TransNetV2] Processing video frames 27979/27979\n",
      "[TransNetV2] Processing video frames 28150/28823[TransNetV2] Extracting frames from D:/AIChallenge/data_sotuyen1/video/Videos_L06/L06_V014.mp4\n",
      "[TransNetV2] Processing video frames 28515/28515\n",
      "[TransNetV2] Processing video frames 27000/30090[TransNetV2] Extracting frames from D:/AIChallenge/data_sotuyen1/video/Videos_L06/L06_V015.mp4\n",
      "[TransNetV2] Processing video frames 30053/30053\n",
      "[TransNetV2] Extracting frames from D:/AIChallenge/data_sotuyen1/video/Videos_L06/L06_V017.mp4\n",
      "[TransNetV2] Processing video frames 31341/31341\n",
      "[TransNetV2] Processing video frames 30100/36839[TransNetV2] Extracting frames from D:/AIChallenge/data_sotuyen1/video/Videos_L06/L06_V018.mp4\n",
      "[TransNetV2] Processing video frames 31045/31045\n",
      "[TransNetV2] Processing video frames 25350/27206[TransNetV2] Extracting frames from D:/AIChallenge/data_sotuyen1/video/Videos_L06/L06_V026.mp4\n",
      "[TransNetV2] Processing video frames 27374/27374\n",
      "[TransNetV2] Processing video frames 28400/32424[TransNetV2] Extracting frames from D:/AIChallenge/data_sotuyen1/video/Videos_L06/L06_V027.mp4\n",
      "[TransNetV2] Processing video frames 30600/30600\n",
      "[TransNetV2] Extracting frames from D:/AIChallenge/data_sotuyen1/video/Videos_L06/L06_V028.mp4\n",
      "[TransNetV2] Processing video frames 28993/28993\n",
      "[TransNetV2] Processing video frames 29700/32424[TransNetV2] Extracting frames from D:/AIChallenge/data_sotuyen1/video/Videos_L06/L06_V029.mp4\n",
      "[TransNetV2] Processing video frames 34947/34947\n",
      "[TransNetV2] Processing video frames 1000/318518"
     ]
    },
    {
     "name": "stderr",
     "output_type": "stream",
     "text": [
      "  6%|████▍                                                                  | 13/210 [4:26:23<55:39:26, 1017.09s/it]"
     ]
    },
    {
     "name": "stdout",
     "output_type": "stream",
     "text": [
      "[TransNetV2] Extracting frames from D:/AIChallenge/data_sotuyen1/video/Videos_L06/L06_V030.mp4\n",
      "[TransNetV2] Processing video frames 27206/27206\n",
      "[TransNetV2] Extracting frames from D:/AIChallenge/data_sotuyen1/video/Videos_L06/L06_V031.mp4\n",
      "[TransNetV2] Processing video frames 29553/29553\n",
      "[TransNetV2] Processing video frames 1250/33448[TransNetV2] Extracting frames from D:/AIChallenge/data_sotuyen1/video/Videos_L07/L07_V001.mp4\n",
      "[TransNetV2] Processing video frames 32424/32424\n",
      "[TransNetV2] Processing video frames 1850/26542"
     ]
    },
    {
     "name": "stderr",
     "output_type": "stream",
     "text": [
      "  8%|█████▊                                                                  | 17/210 [4:38:22<39:57:20, 745.29s/it]"
     ]
    },
    {
     "name": "stdout",
     "output_type": "stream",
     "text": [
      "[TransNetV2] Extracting frames from D:/AIChallenge/data_sotuyen1/video/Videos_L07/L07_V002.mp4\n",
      "[TransNetV2] Processing video frames 33448/33448\n",
      "[TransNetV2] Processing video frames 27250/32688"
     ]
    },
    {
     "name": "stderr",
     "output_type": "stream",
     "text": [
      " 13%|█████████▎                                                              | 27/210 [6:55:22<42:42:15, 840.08s/it]"
     ]
    },
    {
     "name": "stdout",
     "output_type": "stream",
     "text": [
      "[TransNetV2] Extracting frames from D:/AIChallenge/data_sotuyen1/video/Videos_L07/L07_V010.mp4\n",
      "[TransNetV2] Processing video frames 31844/31844\n",
      "[TransNetV2] Processing video frames 32600/33673[TransNetV2] Extracting frames from D:/AIChallenge/data_sotuyen1/video/Videos_L07/L07_V011.mp4\n",
      "[TransNetV2] Processing video frames 32688/32688\n"
     ]
    },
    {
     "name": "stderr",
     "output_type": "stream",
     "text": [
      " 17%|████████████                                                            | 35/210 [7:21:25<19:19:17, 397.47s/it]"
     ]
    },
    {
     "name": "stdout",
     "output_type": "stream",
     "text": [
      "[TransNetV2] Extracting frames from D:/AIChallenge/data_sotuyen1/video/Videos_L07/L07_V017.mp4\n",
      "[TransNetV2] Processing video frames 25624/25624\n",
      "[TransNetV2] Extracting frames from D:/AIChallenge/data_sotuyen1/video/Videos_L07/L07_V018.mp4\n",
      "[TransNetV2] Processing video frames 29282/29282\n"
     ]
    },
    {
     "name": "stderr",
     "output_type": "stream",
     "text": [
      " 18%|████████████▋                                                           | 37/210 [8:34:41<43:38:14, 908.06s/it]"
     ]
    },
    {
     "name": "stdout",
     "output_type": "stream",
     "text": [
      "[TransNetV2] Extracting frames from D:/AIChallenge/data_sotuyen1/video/Videos_L07/L07_V019.mp4\n",
      "[TransNetV2] Processing video frames 23551/23551\n",
      "[TransNetV2] Extracting frames from D:/AIChallenge/data_sotuyen1/video/Videos_L07/L07_V031.mp4\n",
      "[TransNetV2] Processing video frames 25387/25387\n",
      "[TransNetV2] Processing video frames 24200/27745[TransNetV2] Extracting frames from D:/AIChallenge/data_sotuyen1/video/Videos_L08/L08_V001.mp4\n",
      "[TransNetV2] Processing video frames 30661/30661\n",
      "[TransNetV2] Processing video frames 23050/29725"
     ]
    },
    {
     "name": "stderr",
     "output_type": "stream",
     "text": [
      " 24%|████████████████▉                                                      | 50/210 [11:36:45<40:01:38, 900.62s/it]"
     ]
    },
    {
     "name": "stdout",
     "output_type": "stream",
     "text": [
      "[TransNetV2] Extracting frames from D:/AIChallenge/data_sotuyen1/video/Videos_L08/L08_V002.mp4\n",
      "[TransNetV2] Processing video frames 29171/29171\n",
      "[TransNetV2] Processing video frames 16400/30471"
     ]
    },
    {
     "name": "stderr",
     "output_type": "stream",
     "text": [
      " 29%|████████████████████▎                                                 | 61/210 [13:50:34<51:12:49, 1237.38s/it]"
     ]
    },
    {
     "name": "stdout",
     "output_type": "stream",
     "text": [
      "[TransNetV2] Extracting frames from D:/AIChallenge/data_sotuyen1/video/Videos_L08/L08_V011.mp4\n",
      "[TransNetV2] Processing video frames 28666/28666\n",
      "[TransNetV2] Processing video frames 20750/30471[TransNetV2] Extracting frames from D:/AIChallenge/data_sotuyen1/video/Videos_L08/L08_V012.mp4\n",
      "[TransNetV2] Processing video frames 32438/32438\n",
      "[TransNetV2] Processing video frames 23350/30471[TransNetV2] Extracting frames from D:/AIChallenge/data_sotuyen1/video/Videos_L08/L08_V013.mp4\n",
      "[TransNetV2] Processing video frames 32347/32347\n"
     ]
    },
    {
     "name": "stderr",
     "output_type": "stream",
     "text": [
      " 30%|████████████████████▋                                                 | 62/210 [14:21:59<56:48:51, 1381.97s/it]"
     ]
    },
    {
     "name": "stdout",
     "output_type": "stream",
     "text": [
      "[TransNetV2] Extracting frames from D:/AIChallenge/data_sotuyen1/video/Videos_L08/L08_V014.mp4\n",
      "[TransNetV2] Processing video frames 30387/30387\n",
      "[TransNetV2] Processing video frames 3550/29796[TransNetV2] Extracting frames from D:/AIChallenge/data_sotuyen1/video/Videos_L08/L08_V015.mp4\n",
      "[TransNetV2] Processing video frames 31747/31747\n",
      "[TransNetV2] Processing video frames 25700/30213"
     ]
    },
    {
     "name": "stderr",
     "output_type": "stream",
     "text": [
      " 31%|█████████████████████▉                                                 | 65/210 [14:31:21<32:07:45, 797.69s/it]"
     ]
    },
    {
     "name": "stdout",
     "output_type": "stream",
     "text": [
      "[TransNetV2] Extracting frames from D:/AIChallenge/data_sotuyen1/video/Videos_L08/L08_V016.mp4\n",
      "[TransNetV2] Processing video frames 27576/27576\n",
      "[TransNetV2] Extracting frames from D:/AIChallenge/data_sotuyen1/video/Videos_L08/L08_V017.mp4\n",
      "[TransNetV2] Processing video frames 32918/32918\n",
      "[TransNetV2] Processing video frames 8600/29796"
     ]
    },
    {
     "name": "stderr",
     "output_type": "stream",
     "text": [
      " 32%|██████████████████████▋                                                | 67/210 [14:48:22<28:03:44, 706.47s/it]"
     ]
    },
    {
     "name": "stdout",
     "output_type": "stream",
     "text": [
      "[TransNetV2] Extracting frames from D:/AIChallenge/data_sotuyen1/video/Videos_L08/L08_V018.mp4\n",
      "[TransNetV2] Processing video frames 30213/30213\n",
      "[TransNetV2] Processing video frames 13350/32077"
     ]
    },
    {
     "name": "stderr",
     "output_type": "stream",
     "text": [
      " 33%|███████████████████████▎                                               | 69/210 [14:51:36<20:12:54, 516.13s/it]"
     ]
    },
    {
     "name": "stdout",
     "output_type": "stream",
     "text": [
      "[TransNetV2] Extracting frames from D:/AIChallenge/data_sotuyen1/video/Videos_L08/L08_V019.mp4\n",
      "[TransNetV2] Processing video frames 30471/30471\n",
      "[TransNetV2] Processing video frames 6450/28464"
     ]
    },
    {
     "name": "stderr",
     "output_type": "stream",
     "text": [
      " 33%|███████████████████████▋                                               | 70/210 [14:52:26<16:46:14, 431.25s/it]"
     ]
    },
    {
     "name": "stdout",
     "output_type": "stream",
     "text": [
      "[TransNetV2] Processing video frames 13550/32077[TransNetV2] Extracting frames from D:/AIChallenge/data_sotuyen1/video/Videos_L08/L08_V020.mp4\n",
      "[TransNetV2] Processing video frames 28637/28637\n",
      "[TransNetV2] Processing video frames 50/31340"
     ]
    },
    {
     "name": "stderr",
     "output_type": "stream",
     "text": [
      " 34%|████████████████████████                                               | 71/210 [14:53:48<13:51:37, 358.98s/it]"
     ]
    },
    {
     "name": "stdout",
     "output_type": "stream",
     "text": [
      "[TransNetV2] Extracting frames from D:/AIChallenge/data_sotuyen1/video/Videos_L08/L08_V021.mp4\n",
      "[TransNetV2] Processing video frames 29899/29899\n",
      "[TransNetV2] Processing video frames 14450/32077"
     ]
    },
    {
     "name": "stderr",
     "output_type": "stream",
     "text": [
      " 34%|████████████████████████▎                                              | 72/210 [14:56:40<12:07:45, 316.41s/it]"
     ]
    },
    {
     "name": "stdout",
     "output_type": "stream",
     "text": [
      "[TransNetV2] Extracting frames from D:/AIChallenge/data_sotuyen1/video/Videos_L08/L08_V022.mp4\n",
      "[TransNetV2] Processing video frames 32077/32077\n",
      "[TransNetV2] Processing video frames 17750/30557"
     ]
    },
    {
     "name": "stderr",
     "output_type": "stream",
     "text": [
      " 35%|████████████████████████▎                                             | 73/210 [16:10:53<50:42:36, 1332.53s/it]"
     ]
    },
    {
     "name": "stdout",
     "output_type": "stream",
     "text": [
      "[TransNetV2] Extracting frames from D:/AIChallenge/data_sotuyen1/video/Videos_L08/L08_V023.mp4\n",
      "[TransNetV2] Processing video frames 29796/29796\n",
      "[TransNetV2] Processing video frames 26750/29519"
     ]
    },
    {
     "name": "stderr",
     "output_type": "stream",
     "text": [
      " 35%|████████████████████████▋                                             | 74/210 [16:17:07<40:55:55, 1083.49s/it]"
     ]
    },
    {
     "name": "stdout",
     "output_type": "stream",
     "text": [
      "[TransNetV2] Extracting frames from D:/AIChallenge/data_sotuyen1/video/Videos_L08/L08_V024.mp4\n",
      "[TransNetV2] Processing video frames 28464/28464\n",
      "[TransNetV2] Processing video frames 21200/32940"
     ]
    },
    {
     "name": "stderr",
     "output_type": "stream",
     "text": [
      " 36%|█████████████████████████▎                                             | 75/210 [16:28:53<36:48:11, 981.42s/it]"
     ]
    },
    {
     "name": "stdout",
     "output_type": "stream",
     "text": [
      "[TransNetV2] Extracting frames from D:/AIChallenge/data_sotuyen1/video/Videos_L08/L08_V025.mp4\n",
      "[TransNetV2] Processing video frames 29519/29519\n"
     ]
    },
    {
     "name": "stderr",
     "output_type": "stream",
     "text": [
      " 36%|█████████████████████████▋                                             | 76/210 [16:31:12<27:46:39, 746.27s/it]"
     ]
    },
    {
     "name": "stdout",
     "output_type": "stream",
     "text": [
      "[TransNetV2] Processing video frames 22550/30557[TransNetV2] Extracting frames from D:/AIChallenge/data_sotuyen1/video/Videos_L08/L08_V026.mp4\n",
      "[TransNetV2] Processing video frames 28615/28615\n",
      "[TransNetV2] Processing video frames 22900/32212"
     ]
    },
    {
     "name": "stderr",
     "output_type": "stream",
     "text": [
      " 37%|██████████████████████████                                             | 77/210 [16:34:04<21:31:59, 582.85s/it]"
     ]
    },
    {
     "name": "stdout",
     "output_type": "stream",
     "text": [
      "[TransNetV2] Extracting frames from D:/AIChallenge/data_sotuyen1/video/Videos_L08/L08_V027.mp4\n",
      "[TransNetV2] Processing video frames 30595/30595\n",
      "[TransNetV2] Processing video frames 26750/31340"
     ]
    },
    {
     "name": "stderr",
     "output_type": "stream",
     "text": [
      " 38%|██████████████████████████▋                                            | 79/210 [16:48:17<17:27:11, 479.63s/it]"
     ]
    },
    {
     "name": "stdout",
     "output_type": "stream",
     "text": [
      "[TransNetV2] Extracting frames from D:/AIChallenge/data_sotuyen1/video/Videos_L08/L08_V029.mp4\n",
      "[TransNetV2] Processing video frames 30557/30557\n",
      "[TransNetV2] Extracting frames from D:/AIChallenge/data_sotuyen1/video/Videos_L08/L08_V030.mp4\n",
      "[TransNetV2] Processing video frames 31340/31340\n",
      "[TransNetV2] Processing video frames 7950/310400[TransNetV2] Extracting frames from D:/AIChallenge/data_sotuyen1/video/Videos_L09/L09_V001.mp4\n",
      "[TransNetV2] Processing video frames 32212/32212\n",
      "[TransNetV2] Processing video frames 6100/34108[TransNetV2] Extracting frames from D:/AIChallenge/data_sotuyen1/video/Videos_L09/L09_V002.mp4\n",
      "[TransNetV2] Processing video frames 33103/33103\n",
      "[TransNetV2] Processing video frames 6450/34108[TransNetV2] Extracting frames from D:/AIChallenge/data_sotuyen1/video/Videos_L09/L09_V003.mp4\n"
     ]
    },
    {
     "name": "stderr",
     "output_type": "stream",
     "text": [
      " 38%|███████████████████████████                                            | 80/210 [17:19:18<32:00:25, 886.35s/it]"
     ]
    },
    {
     "name": "stdout",
     "output_type": "stream",
     "text": [
      "[TransNetV2] Processing video frames 32940/32940\n",
      "[TransNetV2] Processing video frames 11150/29961"
     ]
    },
    {
     "name": "stderr",
     "output_type": "stream",
     "text": [
      " 39%|███████████████████████████▋                                           | 82/210 [17:20:32<17:42:43, 498.15s/it]"
     ]
    },
    {
     "name": "stdout",
     "output_type": "stream",
     "text": [
      "[TransNetV2] Extracting frames from D:/AIChallenge/data_sotuyen1/video/Videos_L09/L09_V004.mp4\n",
      "[TransNetV2] Processing video frames 29630/29630\n"
     ]
    },
    {
     "name": "stderr",
     "output_type": "stream",
     "text": [
      " 40%|████████████████████████████▋                                          | 85/210 [18:22:28<30:01:12, 864.58s/it]"
     ]
    },
    {
     "name": "stdout",
     "output_type": "stream",
     "text": [
      "[TransNetV2] Extracting frames from D:/AIChallenge/data_sotuyen1/video/Videos_L09/L09_V005.mp4\n",
      "[TransNetV2] Processing video frames 31136/31136\n",
      "[TransNetV2] Processing video frames 16850/32591"
     ]
    },
    {
     "name": "stderr",
     "output_type": "stream",
     "text": [
      " 41%|█████████████████████████████                                          | 86/210 [18:33:43<28:32:17, 828.53s/it]"
     ]
    },
    {
     "name": "stdout",
     "output_type": "stream",
     "text": [
      "[TransNetV2] Extracting frames from D:/AIChallenge/data_sotuyen1/video/Videos_L09/L09_V006.mp4\n",
      "[TransNetV2] Processing video frames 29961/29961\n"
     ]
    },
    {
     "name": "stderr",
     "output_type": "stream",
     "text": [
      " 41%|█████████████████████████████▍                                         | 87/210 [18:38:57<24:32:27, 718.27s/it]"
     ]
    },
    {
     "name": "stdout",
     "output_type": "stream",
     "text": [
      "[TransNetV2] Extracting frames from D:/AIChallenge/data_sotuyen1/video/Videos_L09/L09_V007.mp4\n",
      "[TransNetV2] Processing video frames 31040/31040\n"
     ]
    },
    {
     "name": "stderr",
     "output_type": "stream",
     "text": [
      " 42%|█████████████████████████████▊                                         | 88/210 [18:43:21<20:44:30, 612.05s/it]"
     ]
    },
    {
     "name": "stdout",
     "output_type": "stream",
     "text": [
      "[TransNetV2] Extracting frames from D:/AIChallenge/data_sotuyen1/video/Videos_L09/L09_V008.mp4\n",
      "[TransNetV2] Processing video frames 30684/30684\n"
     ]
    },
    {
     "name": "stderr",
     "output_type": "stream",
     "text": [
      " 42%|██████████████████████████████                                         | 89/210 [18:45:17<16:23:21, 487.61s/it]"
     ]
    },
    {
     "name": "stdout",
     "output_type": "stream",
     "text": [
      "[TransNetV2] Processing video frames 20300/30357[TransNetV2] Extracting frames from D:/AIChallenge/data_sotuyen1/video/Videos_L09/L09_V009.mp4\n",
      "[TransNetV2] Processing video frames 32850/34108"
     ]
    }
   ],
   "source": [
    "import concurrent.futures\n",
    "\n",
    "model = TransNetV2() # Khởi tạo model\n",
    "save_dir = 'D:/AIChallenge/data_sotuyen1/dataset_extraction/transnet/SceneJSON'\n",
    "os.makedirs(save_dir, exist_ok=True)\n",
    "\n",
    "def process_video(video_info):\n",
    "    key, video_id, video_path = video_info\n",
    "    _, single_frame_predictions, _ = model.predict_video(video_path)\n",
    "    scenes = model.predictions_to_scenes(single_frame_predictions)\n",
    "    \n",
    "    key_dir = os.path.join(save_dir, key)\n",
    "    os.makedirs(key_dir, exist_ok=True)\n",
    "    \n",
    "    with open(f\"{key_dir}/{video_id}.json\", 'w') as f:\n",
    "        json.dump(scenes.tolist(), f)\n",
    "\n",
    "# Lọc các thư mục bắt đầu bằng 'L02' trở đi\n",
    "video_info_list = [(key, video_id, video_paths_dict[video_id])\n",
    "                   for key, video_paths_dict in all_video_paths.items()\n",
    "                   if key >= 'L06'  # Điều kiện để chỉ xử lý các thư mục L02, L03,...\n",
    "                   for video_id in sorted(video_paths_dict.keys())]\n",
    "\n",
    "# Sử dụng ThreadPoolExecutor để xử lý song song\n",
    "with concurrent.futures.ThreadPoolExecutor() as executor:\n",
    "    list(tqdm(executor.map(process_video, video_info_list), total=len(video_info_list)))\n"
   ]
  },
  {
   "cell_type": "code",
   "execution_count": 8,
   "id": "dbbf3c18",
   "metadata": {
    "execution": {
     "iopub.execute_input": "2023-10-02T10:22:37.935320Z",
     "iopub.status.busy": "2023-10-02T10:22:37.934810Z",
     "iopub.status.idle": "2023-10-02T10:22:39.030008Z",
     "shell.execute_reply": "2023-10-02T10:22:39.028471Z"
    },
    "papermill": {
     "duration": 1.841836,
     "end_time": "2023-10-02T10:22:39.032765",
     "exception": false,
     "start_time": "2023-10-02T10:22:37.190929",
     "status": "completed"
    },
    "tags": []
   },
   "outputs": [],
   "source": [
    "!rm -r ./TransNetV2"
   ]
  }
 ],
 "metadata": {
  "kernelspec": {
   "display_name": "Python 3 (ipykernel)",
   "language": "python",
   "name": "python3"
  },
  "language_info": {
   "codemirror_mode": {
    "name": "ipython",
    "version": 3
   },
   "file_extension": ".py",
   "mimetype": "text/x-python",
   "name": "python",
   "nbconvert_exporter": "python",
   "pygments_lexer": "ipython3",
   "version": "3.10.14"
  },
  "papermill": {
   "default_parameters": {},
   "duration": 17307.259832,
   "end_time": "2023-10-02T10:22:45.041932",
   "environment_variables": {},
   "exception": null,
   "input_path": "__notebook__.ipynb",
   "output_path": "__notebook__.ipynb",
   "parameters": {},
   "start_time": "2023-10-02T05:34:17.782100",
   "version": "2.4.0"
  }
 },
 "nbformat": 4,
 "nbformat_minor": 5
}
